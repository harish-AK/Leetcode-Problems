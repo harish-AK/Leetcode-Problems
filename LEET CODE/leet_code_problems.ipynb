{
 "cells": [
  {
   "cell_type": "markdown",
   "id": "090e95ac",
   "metadata": {},
   "source": [
    "# Easy level problems"
   ]
  },
  {
   "cell_type": "code",
   "execution_count": 1,
   "id": "e94f563e-38a0-4232-8b94-03eac8d2f0d9",
   "metadata": {},
   "outputs": [
    {
     "name": "stdout",
     "output_type": "stream",
     "text": [
      "0 1\n",
      "0 4\n"
     ]
    }
   ],
   "source": [
    "# 1\n",
    "#  day 1\n",
    "# 1. Two Sum\n",
    "# Easy\n",
    "# Topics\n",
    "# Companies\n",
    "# Hint\n",
    "# Given an array of integers nums and an integer target, return indices of the two numbers such that they add up to target.\n",
    "\n",
    "# You may assume that each input would have exactly one solution, and you may not use the same element twice.\n",
    "\n",
    "# You can return the answer in any order.\n",
    "# Example 1:\n",
    "\n",
    "# Input: nums = [2,7,11,15], target = 9\n",
    "# Output: [0,1]\n",
    "# Explanation: Because nums[0] + nums[1] == 9, we return [0, 1].\n",
    "\n",
    "b=[2,7,11,15,7]\n",
    "tar=9\n",
    "for i in range(len(b)-1):\n",
    "    for j in range(i+1,len(b)):\n",
    "        if b[i] + b[j] == tar:\n",
    "            print(i,j)\n",
    "        else:\n",
    "            pass\n",
    "\n"
   ]
  },
  {
   "cell_type": "code",
   "execution_count": 32,
   "id": "8de8555c-06db-48b0-b4ba-7294c654086e",
   "metadata": {},
   "outputs": [
    {
     "name": "stdout",
     "output_type": "stream",
     "text": [
      "False\n"
     ]
    }
   ],
   "source": [
    "# 2\n",
    "# day 2\n",
    "# Given an integer x, return true if x is a \n",
    "# palindrome, and false otherwise.\n",
    "\n",
    "# Example 1:\n",
    "\n",
    "# Input: x = 121\n",
    "# Output: true\n",
    "# Explanation: 121 reads as 121 from left to right and from right to left.\n",
    "\n",
    "x=10\n",
    "b=str(x)\n",
    "c=b[::-1] # : - start, : - step, : - end\n",
    "if b==b[::-1]:\n",
    "    print(True)\n",
    "else:\n",
    "    print(False)"
   ]
  },
  {
   "cell_type": "code",
   "execution_count": 23,
   "id": "96e035f5-f2ba-4adb-9374-4607d9d91f3c",
   "metadata": {},
   "outputs": [
    {
     "name": "stdout",
     "output_type": "stream",
     "text": [
      "[5, -1, 100, -10, 1000, -100, 1000]\n",
      "1994\n"
     ]
    }
   ],
   "source": [
    "# 3\n",
    "# day 2 2nd problem\n",
    "# Roman numerals are represented by seven different symbols: I, V, X, L, C, D and M.\n",
    "\n",
    "# Symbol       Value\n",
    "# I             1\n",
    "# V             5\n",
    "# X             10\n",
    "# L             50\n",
    "# C             100\n",
    "# D             500\n",
    "# M             1000\n",
    "# Example 2:\n",
    "\n",
    "# Input: s = \"LVIII\"\n",
    "# Output: 58\n",
    "# Explanation: L = 50, V= 5, III = 3.\n",
    "s = \"MCMXCIV\"\n",
    "l = []\n",
    "dic = {'I':1, 'V':5, 'X':10, 'L':50, 'C':100, 'D':500, 'M':1000}\n",
    "\n",
    "prev_val = 0\n",
    "\n",
    "for n in reversed(s): # reversed s = VICXMCM\n",
    "    val = dic[n] # in iteration 1 dic['V'] = 5, val = 5\n",
    "    \n",
    "    if val < prev_val: # 5 < 0 in iteration 1\n",
    "        l.append(-val) # -5\n",
    "    else:\n",
    "        l.append(val)\n",
    "    \n",
    "    prev_val = val # in iteration 1 prev_val = 5\n",
    "print(l)\n",
    "print(sum(l))\n"
   ]
  },
  {
   "cell_type": "code",
   "execution_count": 33,
   "id": "73b2b222-50c1-4f29-9424-1d06c231e9f4",
   "metadata": {},
   "outputs": [
    {
     "name": "stdout",
     "output_type": "stream",
     "text": [
      "2\n"
     ]
    }
   ],
   "source": [
    "#4\n",
    "# day 3\n",
    "# remove duplicates from sorted array\n",
    "# Given an integer array nums sorted in non-decreasing order, remove the duplicates in-place such that each unique element appears only once. \n",
    "# The relative order of the elements should be kept the same. Then return the number of unique elements in nums.\n",
    "\n",
    "# Consider the number of unique elements of nums to be k, to get accepted, you need to do the following things:\n",
    "\n",
    "# Change the array nums such that the first k elements of nums contain the unique elements in the order they were present in nums initially. \n",
    "# The remaining elements of nums are not important as well as the size of nums.\n",
    "# Return k.\n",
    "\n",
    "# Example 1:\n",
    "\n",
    "# Input: nums = [1,1,2]\n",
    "# Output: 2, nums = [1,2,_]\n",
    "# Explanation: Your function should return k = 2, with the first two elements of nums being 1 and 2 respectively.\n",
    "# It does not matter what you leave beyond the returned k (hence they are underscores).\n",
    "a=[1,1,2]\n",
    "left_poi = 1\n",
    "for right_poi in range(1,len(a)):\n",
    "    if a[right_poi] != a[right_poi - 1]:\n",
    "        a[left_poi] = a[right_poi] # if the previous value  is not equal to current one relplace the value of 'a' with the current one  \n",
    "        left_poi += 1\n",
    "print(left_poi)\n",
    "# this is an sorted array so that  we only need to check the previous number is same or not\n",
    "# this is 2 pointer algorithm"
   ]
  },
  {
   "cell_type": "code",
   "execution_count": 45,
   "id": "aa188081-fbaf-4b8b-b21b-02683f343875",
   "metadata": {},
   "outputs": [
    {
     "name": "stdout",
     "output_type": "stream",
     "text": [
      "['flight', 'flow', 'flower']\n",
      "\n",
      "\n",
      "\n",
      "\n",
      "fl\n"
     ]
    }
   ],
   "source": [
    "#5\n",
    "# day 5\n",
    "# LONGEST COMMON PREFIX\n",
    "# Example 1:\n",
    "\n",
    "# Input: strs = [\"flower\",\"flow\",\"flight\"]\n",
    "# Output: \"fl\"\n",
    "# Example 2:\n",
    "\n",
    "# Input: strs = [\"dog\",\"racecar\",\"car\"]\n",
    "# Output: \"\"\n",
    "# Explanation: There is no common prefix among the input strings.\n",
    "strs = [\"flower\",\"flow\",\"flight\"]\n",
    "v=sorted(strs) # ['flight','flow','flower']\n",
    "print(v)\n",
    "first=v[0] # flight\n",
    "last=v[-1] # flower\n",
    "ans=\"\"\n",
    "for i in range(min(len(first),len(last))): # min(len(first),len(last)) = 6 so for i in range(6)\n",
    "    if first[i] != last[i]: # checking 1st char of 1st and 1st char of last words \n",
    "        print(\"\")\n",
    "    else:\n",
    "        ans+=first[i]\n",
    "print(ans)"
   ]
  },
  {
   "cell_type": "code",
   "execution_count": 45,
   "id": "d76f55ee-cbe1-4d38-bad9-3cb6faaa8dc7",
   "metadata": {},
   "outputs": [
    {
     "name": "stdout",
     "output_type": "stream",
     "text": [
      "III\n"
     ]
    }
   ],
   "source": [
    "# 6\n",
    "# day 6\n",
    "# For example, 2 is written as II in Roman numeral, just two one's added together. 12 is written as XII, which is simply X + II. \n",
    "# The number 27 is written as XXVII, which is XX + V + II.\n",
    "# Example 1:\n",
    "\n",
    "# Input: num = 3\n",
    "# Output: \"III\"\n",
    "# Explanation: 3 is represented as 3 ones.\n",
    "# Example 2:\n",
    "\n",
    "# Input: num = 58\n",
    "# Output: \"LVIII\"\n",
    "# Explanation: L = 50, V = 5, III = 3.\n",
    "# Example 3:\n",
    "\n",
    "# Input: num = 1994\n",
    "# Output: \"MCMXCIV\"\n",
    "# Explanation: M = 1000, CM = 900, XC = 90 and IV = 4.\n",
    "\n",
    "# dic = {'I':1, 'V':5, 'X':10, 'L':50, 'C':100, 'D':500, 'M':1000}\n",
    "\n",
    "ones = [\"\", \"I\", \"II\", \"III\", \"IV\", \"V\", \"VI\", \"VII\", \"VIII\", \"IX\"]\n",
    "tens = [\"\", \"X\", \"XX\", \"XXX\", \"XL\", \"L\", \"LX\", \"LXX\", \"LXXX\", \"XC\"]\n",
    "hrns = [\"\", \"C\", \"CC\", \"CCC\", \"CD\", \"D\", \"DC\", \"DCC\", \"DCCC\", \"CM\"]\n",
    "ths = [\"\", \"M\", \"MM\", \"MMM\"]\n",
    "num=3\n",
    "print(ths[num // 1000] + hrns[(num % 1000) // 100] + tens[(num % 100) // 10] + ones[num % 10])"
   ]
  },
  {
   "cell_type": "code",
   "execution_count": 15,
   "id": "2175ec97-78c8-4bd4-81f6-a5345a48ef74",
   "metadata": {},
   "outputs": [
    {
     "name": "stdout",
     "output_type": "stream",
     "text": [
      "[2, 2] 2\n"
     ]
    }
   ],
   "source": [
    "# 7\n",
    "# day 7\n",
    "# Remove element\n",
    "# Given an integer array nums and an integer val, remove all occurrences of val in nums in-place. \n",
    "# The order of the elements may be changed. Then return the number of elements in nums which are not equal to val.\n",
    "# Example 1:\n",
    "\n",
    "# Input: nums = [3,2,2,3], val = 3\n",
    "# Output: 2, nums = [2,2,_,_]\n",
    "# Explanation: Your function should return k = 2, with the first two elements of nums being 2.\n",
    "# It does not matter what you leave beyond the returned k (hence they are underscores).\n",
    "# Example 2:\n",
    "\n",
    "# Input: nums = [0,1,2,2,3,0,4,2], val = 2\n",
    "# Output: 5, nums = [0,1,4,0,3,_,_,_]\n",
    "# Explanation: Your function should return k = 5, with the first five elements of nums containing 0, 0, 1, 3, and 4.\n",
    "# Note that the five elements can be returned in any order.\n",
    "# It does not matter what you leave beyond the returned k (hence they are underscores).\n",
    "\n",
    "n = [3,2,2,3]\n",
    "val = 3\n",
    "index = 0\n",
    "\n",
    "for i in range(len(n)): # from 0 to 4\n",
    "    if n[i] != val: # iteration 1 n[0] = 3 it will skip, iteration 2 n[1] = 2 \n",
    "        n[index] = n[i] #  n[index] wihich is 0 so n[0] = n[i](which is n[1] which is 2) it becomes n[index][0] = n[i][1] = 2, which will result n[0] = 2  \n",
    "        index += 1 # idex becomes 2\n",
    "\n",
    "n = n[:index]\n",
    "print(n,len(n))\n",
    "        "
   ]
  },
  {
   "cell_type": "code",
   "execution_count": 16,
   "id": "2cf90bba-a438-441d-9787-de8f380e52bf",
   "metadata": {},
   "outputs": [
    {
     "name": "stdout",
     "output_type": "stream",
     "text": [
      "-1\n"
     ]
    }
   ],
   "source": [
    "# 8\n",
    "# day 8\n",
    "# Find the index of the first occurrence in a string\n",
    "# Given two strings needle and haystack, return the index of the first occurrence of needle in haystack, or -1 if needle is not part of haystack.\n",
    "\n",
    "# Example 1:\n",
    "\n",
    "# Input: haystack = \"sadbutsad\", needle = \"sad\"\n",
    "# Output: 0\n",
    "# Explanation: \"sad\" occurs at index 0 and 6.\n",
    "# The first occurrence is at index 0, so we return 0\n",
    "\n",
    "hay = \"leetcode\"\n",
    "need = \"leeto\"\n",
    "res = []\n",
    "for index, ele in enumerate(hay):\n",
    "    if hay[index:index+len(need)] == need:\n",
    "        res.append(index)\n",
    "if len(res) == 0:\n",
    "    print(-1)\n",
    "else:\n",
    "    print(res)"
   ]
  },
  {
   "cell_type": "code",
   "execution_count": 6,
   "id": "18a1d2dd-d885-4ec2-864d-73a622b3c5b6",
   "metadata": {},
   "outputs": [
    {
     "name": "stdout",
     "output_type": "stream",
     "text": [
      "['fly', 'me', 'to', 'the', 'moon'] 4\n"
     ]
    }
   ],
   "source": [
    "# 9\n",
    "# day 9\n",
    "# Length of last word\n",
    "# Given a string s consisting of words and spaces, return the length of the last word in the string.# A word is a maximal  substring\n",
    "# consisting of non-space characters only.\n",
    "# Example 1:\n",
    "\n",
    "# Input: s = \"Hello World\"\n",
    "# Output: 5\n",
    "# Explanation: The last word is \"World\" with length 5.\n",
    "s = \"   fly me   to   the moon  \"\n",
    "b = s.split()\n",
    "print(b,len(b[-1]))"
   ]
  },
  {
   "cell_type": "code",
   "execution_count": 8,
   "id": "71e3fd9b-965d-495e-8f2a-ff4bb8f2fac2",
   "metadata": {},
   "outputs": [
    {
     "name": "stdout",
     "output_type": "stream",
     "text": [
      "5\n",
      "6\n",
      "7\n",
      "8\n",
      "9\n",
      "5\n"
     ]
    }
   ],
   "source": [
    "# 10\n",
    "# day 10\n",
    "# Search insert position\n",
    "# Given a sorted array of distinct integers and a target value, return the index if the target is found. \n",
    "# If not, return the index where it would be if it were inserted in order.\n",
    "\n",
    "# Example 1:\n",
    "\n",
    "# Input: nums = [1,3,5,6], target = 5\n",
    "# Output: 2\n",
    "# Example 2:\n",
    "\n",
    "# Input: nums = [1,3,5,6], target = 2\n",
    "# Output: 1\n",
    "a = [1,2,3,4,5]\n",
    "tar = 6\n",
    "for index,val in enumerate(a) :\n",
    "    if val == tar:\n",
    "        print(index)\n",
    "    else:\n",
    "        a.append(tar)\n",
    "b = sorted(a)\n",
    "print(a.index(tar))\n",
    "        "
   ]
  },
  {
   "cell_type": "code",
   "execution_count": 45,
   "id": "33c60b57-0754-4100-af83-ae43619489df",
   "metadata": {},
   "outputs": [
    {
     "name": "stdout",
     "output_type": "stream",
     "text": [
      "[1, 0, 0]\n"
     ]
    }
   ],
   "source": [
    "# 11\n",
    "# day 11\n",
    "# You are given a large integer represented as an integer array digits, where each digits[i] is the ith digit of the integer. \n",
    "# The digits are ordered from most significant to least significant in left-to-right order. The large integer does not contain any leading 0's\n",
    "\n",
    "# Example 1:\n",
    "# Input: digits = [1,2,3]\n",
    "# Output: [1,2,4]\n",
    "# Explanation: The array represents the integer 123.\n",
    "# Incrementing by one gives 123 + 1 = 124.\n",
    "# Thus, the result should be [1,2,4]\n",
    "\n",
    "digits = [9,9]\n",
    "for i in range(len(digits) - 1, -1, -1): # i will be len of list but in reverse order\n",
    "        if digits[i] < 9:\n",
    "            digits[i] += 1\n",
    "            print(digits)\n",
    "        digits[i] = 0\n",
    "\n",
    "digits = [0] + digits\n",
    "digits[0] = 1\n",
    "print(digits)"
   ]
  },
  {
   "cell_type": "code",
   "execution_count": 29,
   "id": "7819a15a-fadb-4f1b-ba71-e3707317c673",
   "metadata": {},
   "outputs": [
    {
     "name": "stdout",
     "output_type": "stream",
     "text": [
      "False\n"
     ]
    }
   ],
   "source": [
    "# 12\n",
    "# day 12\n",
    "# Valid paranthesis\n",
    "# Given a string s containing just the characters '(', ')', '{', '}', '[' and ']', determine if the input string is valid.\n",
    "\n",
    "# An input string is valid if:\n",
    "\n",
    "# Open brackets must be closed by the same type of brackets.\n",
    "# Open brackets must be closed in the correct order.\n",
    "# Every close bracket has a corresponding open bracket of the same type.\n",
    " \n",
    "# Example 1:\n",
    "# Input: s = \"()\"\n",
    "# Output: true\n",
    "l = []\n",
    "s = \"{}\"\n",
    "if len(s) >= 0:\n",
    "    \n",
    "    for i in s:\n",
    "        if i == '(':\n",
    "            l.append(i)\n",
    "        elif i == '{':\n",
    "            l.append(i)\n",
    "        elif i == '[':\n",
    "            l.append(i)\n",
    "        elif not l or l.pop() != i: # pop means it will pop last element\n",
    "            print(False)"
   ]
  },
  {
   "cell_type": "code",
   "execution_count": 19,
   "id": "4358c99c-bf2a-44da-b0b7-478e94f7f234",
   "metadata": {},
   "outputs": [
    {
     "name": "stdout",
     "output_type": "stream",
     "text": [
      "False\n"
     ]
    }
   ],
   "source": [
    "# 13\n",
    "# Valid palindrome (String)\n",
    "# A phrase is a palindrome if, after converting all uppercase letters into lowercase letters and \n",
    "# removing all non-alphanumeric characters, it reads the same forward and backward. \n",
    "# Alphanumeric characters include letters and numbers.Given a string s, \n",
    "# return true if it is a palindrome, or false otherwise.\n",
    "\n",
    "# Example 1:\n",
    "# Input: s = \"A man, a plan, a canal: Panama\"\n",
    "# Output: true\n",
    "# Explanation: \"amanaplanacanalpanama\" is a palindrome.\n",
    "\n",
    "# Example 2:\n",
    "# Input: s = \"race a car\"\n",
    "# Output: false\n",
    "# Explanation: \"raceacar\" is not a palindrome.\n",
    "import re\n",
    "s = '0P'\n",
    "s = s.lower()\n",
    "s = re.sub(r'[^a-z0-9]', '',s) # [^a-z] chars that are not from a-z, ''(replace with an empty string), s-given string\n",
    "\n",
    "if s == s[::-1]:\n",
    "    print(True)\n",
    "else:\n",
    "    print(False)"
   ]
  },
  {
   "cell_type": "code",
   "execution_count": 21,
   "id": "fea0c2bd-e463-4863-9f57-98bbbf83336b",
   "metadata": {},
   "outputs": [
    {
     "name": "stdout",
     "output_type": "stream",
     "text": [
      "4\n"
     ]
    }
   ],
   "source": [
    "# 14\n",
    "\n",
    "# Single number\n",
    "# Given a non-empty array of integers nums, every element appears twice except for one. Find that single one.\n",
    "# You must implement a solution with a linear runtime complexity and use only constant extra space.\n",
    "\n",
    "# Example 1:\n",
    "# Input: nums = [2,2,1]\n",
    "# Output: 1\n",
    "\n",
    "# Example 2:\n",
    "# Input: nums = [4,1,2,1,2]\n",
    "# Output: 4\n",
    "from collections import Counter\n",
    "nums = [4,1,2,1,2]\n",
    "a = Counter(nums)\n",
    "for ind,val in a.items():\n",
    "    if val == 1:\n",
    "        print(ind)\n",
    "    else:\n",
    "        continue"
   ]
  },
  {
   "cell_type": "code",
   "execution_count": 18,
   "id": "ea237b8f-5c06-4168-98f5-2b98082f76ec",
   "metadata": {},
   "outputs": [
    {
     "data": {
      "text/plain": [
       "2"
      ]
     },
     "execution_count": 18,
     "metadata": {},
     "output_type": "execute_result"
    }
   ],
   "source": [
    "# 15\n",
    "# Given a non-negative integer x, return the square root of x rounded down to the nearest integer. \n",
    "# The returned integer should be non-negative as well\n",
    "# You must not use any built-in exponent function or operator.\n",
    "# For example, do not use pow(x, 0.5) in c++ or x ** 0.5 in python.\n",
    " \n",
    "# Example 1:\n",
    "# Input: x = 4\n",
    "# Output: 2\n",
    "# Explanation: The square root of 4 is 2, so we return 2.\n",
    "def mySqrt(x):\n",
    "        if x == 0:\n",
    "            return 0\n",
    "        first, last = 1, x\n",
    "        while first <= last:\n",
    "            mid = first + (last - first) // 2\n",
    "            if mid == x // mid:\n",
    "                return mid\n",
    "            elif mid > x // mid:\n",
    "                last = mid - 1\n",
    "            else:\n",
    "                first = mid + 1\n",
    "        return last\n",
    "mySqrt(8)"
   ]
  },
  {
   "cell_type": "code",
   "execution_count": 24,
   "id": "059bae26",
   "metadata": {},
   "outputs": [
    {
     "data": {
      "text/plain": [
       "True"
      ]
     },
     "execution_count": 24,
     "metadata": {},
     "output_type": "execute_result"
    }
   ],
   "source": [
    "# 16\n",
    "# Power of 2\n",
    "# Given an integer n, return true if it is a power of two. Otherwise, return false.\n",
    "# An integer n is a power of two, if there exists an integer x such that n == 2x.\n",
    "\n",
    "# Example 1:\n",
    "# Input: n = 1\n",
    "# Output: true\n",
    "# Explanation: 20 = 1\n",
    "\n",
    "\n",
    "def isPowerOfTwo(n):\n",
    "        return n and not (n&n-1)\n",
    "isPowerOfTwo(2)\n",
    "# Suppose n = 8. The binary representation of n is 1000, and the binary representation of n - 1 is 0111. \n",
    "# When we perform a bitwise AND operation between n and n - 1, we get 0000, which means they have no common set bits. Therefore, n is a power of 2."
   ]
  },
  {
   "cell_type": "code",
   "execution_count": 23,
   "id": "560e0245",
   "metadata": {},
   "outputs": [
    {
     "data": {
      "text/plain": [
       "[1, 3, 12, 0, 0]"
      ]
     },
     "execution_count": 23,
     "metadata": {},
     "output_type": "execute_result"
    }
   ],
   "source": [
    "# 17\n",
    "# move zeros\n",
    "# Given an integer array nums, move all 0's to the end of it while maintaining the relative order of the non-zero elements.\n",
    "# Note that you must do this in-place without making a copy of the array.\n",
    "\n",
    "# Example 1:\n",
    "# Input: nums = [0,1,0,3,12]\n",
    "# Output: [1,3,12,0,0]\n",
    "\n",
    "nums = [0,1,0,3,12]\n",
    "j = 0    \n",
    "# Iterate through the array with pointer i\n",
    "for i in range(len(nums)):\n",
    "    # If the current element is not zero\n",
    "    if nums[i] != 0:\n",
    "        # Swap the current element with the element at position j\n",
    "        nums[i], nums[j] = nums[j], nums[i]\n",
    "        # Increment pointer j to prepare for the next non-zero element placement\n",
    "        j += 1\n",
    "nums"
   ]
  },
  {
   "cell_type": "code",
   "execution_count": null,
   "id": "435f94a1",
   "metadata": {},
   "outputs": [],
   "source": [
    "#18\n",
    "# sqrt of x\n",
    "# Given a non-negative integer x, return the square root of x rounded down to the nearest integer. The returned integer should be non-negative as well.\n",
    "# You must not use any built-in exponent function or operator.\n",
    "# For example, do not use pow(x, 0.5) in c++ or x ** 0.5 in python.\n",
    " \n",
    "# Example 1:\n",
    "# Input: x = 4\n",
    "# Output: 2\n",
    "# Explanation: The square root of 4 is 2, so we return 2.\n",
    "if x == 0:\n",
    "    print(0)\n",
    "first, last = 1, x\n",
    "while first <= last:\n",
    "    mid = first + (last - first) // 2\n",
    "    if mid == x // mid:\n",
    "        print(mid)\n",
    "    elif mid > x // mid:\n",
    "        last = mid - 1\n",
    "    else:\n",
    "        first = mid + 1\n",
    "print(last)"
   ]
  },
  {
   "cell_type": "code",
   "execution_count": 5,
   "id": "0743ff2f",
   "metadata": {},
   "outputs": [
    {
     "name": "stdout",
     "output_type": "stream",
     "text": [
      "[2]\n"
     ]
    }
   ],
   "source": [
    "# 19\n",
    "# Given two integer arrays nums1 and nums2, return an array of their intersection. Each element in the result must be unique \n",
    "# and you may return the result in any order.\n",
    "\n",
    "# Example 1:\n",
    "# Input: nums1 = [1,2,2,1], nums2 = [2,2]\n",
    "# Output: [2]\n",
    "\n",
    "# Example 2:\n",
    "# Input: nums1 = [4,9,5], nums2 = [9,4,9,8,4]\n",
    "# Output: [9,4]\n",
    "# Explanation: [4,9] is also accepted.\n",
    "a = [1,2,2,1]\n",
    "b = [2,2]\n",
    "print(list(set(a).intersection(set(b))))"
   ]
  },
  {
   "cell_type": "code",
   "execution_count": 13,
   "id": "c1a86a06",
   "metadata": {},
   "outputs": [
    {
     "name": "stdout",
     "output_type": "stream",
     "text": [
      "1\n"
     ]
    }
   ],
   "source": [
    "# 20\n",
    "# Add digits\n",
    "# Given an integer num, repeatedly add all its digits until the result has only one digit, and return it.\n",
    "\n",
    "# Example 1:\n",
    "# Input: num = 38\n",
    "# Output: 2\n",
    "# Explanation: The process is\n",
    "# 38 --> 3 + 8 --> 11\n",
    "# 11 --> 1 + 1 --> 2 \n",
    "# Since 2 has only one digit, return it.\n",
    "a = 10\n",
    "b = str(a)\n",
    "while a>=10:\n",
    "    b = str(a)\n",
    "    a = sum(int(i) for i in b)\n",
    "print(a)\n",
    "\n",
    "    "
   ]
  },
  {
   "cell_type": "code",
   "execution_count": 27,
   "id": "96cb67ef",
   "metadata": {},
   "outputs": [
    {
     "name": "stdout",
     "output_type": "stream",
     "text": [
      "True\n"
     ]
    }
   ],
   "source": [
    "# 21 \n",
    "# Contains duplicate\n",
    "# Given an integer array nums, return true if any value appears at least twice in the array, and return false if every element is distinct.\n",
    "\n",
    "# Example 1:\n",
    "# Input: nums = [1,2,3,1]\n",
    "# Output: true\n",
    "\n",
    "# Example 2:\n",
    "# Input: nums = [1,2,3,4]\n",
    "# Output: false\n",
    "nums = [1,2,3,1]\n",
    "if len(nums) > len(set(nums)):\n",
    "    print(True)\n",
    "else:\n",
    "    print(False)"
   ]
  },
  {
   "cell_type": "code",
   "execution_count": 39,
   "id": "9ff7c41a",
   "metadata": {},
   "outputs": [
    {
     "name": "stdout",
     "output_type": "stream",
     "text": [
      "True\n"
     ]
    }
   ],
   "source": [
    "# 22\n",
    "# Valid Anagram\n",
    "# Given two strings s and t, return true if t is an anagram of s, and false otherwise.\n",
    "# An Anagram is a word or phrase formed by rearranging the letters of a different word or phrase, typically using all the original letters exactly once.\n",
    "\n",
    "# Example 1:\n",
    "# Input: s = \"anagram\", t = \"nagaram\"\n",
    "# Output: true\n",
    "    \n",
    "# Example 2:\n",
    "# Input: s = \"rat\", t = \"car\"\n",
    "s = \"rac\"\n",
    "t = \"car\"\n",
    "if sorted(s) == sorted(t):\n",
    "    print(True)\n",
    "else:\n",
    "    print(False)"
   ]
  },
  {
   "cell_type": "code",
   "execution_count": 13,
   "id": "4ac21537",
   "metadata": {},
   "outputs": [
    {
     "name": "stdout",
     "output_type": "stream",
     "text": [
      "Word: eat\n",
      "Sorted Word: aet\n",
      "Anagrams: {'aet': ['eat']}\n",
      "\n",
      "Word: tea\n",
      "Sorted Word: aet\n",
      "Anagrams: {'aet': ['eat', 'tea']}\n",
      "\n",
      "Word: tan\n",
      "Sorted Word: ant\n",
      "Anagrams: {'aet': ['eat', 'tea'], 'ant': ['tan']}\n",
      "\n",
      "Word: ate\n",
      "Sorted Word: aet\n",
      "Anagrams: {'aet': ['eat', 'tea', 'ate'], 'ant': ['tan']}\n",
      "\n",
      "Word: nat\n",
      "Sorted Word: ant\n",
      "Anagrams: {'aet': ['eat', 'tea', 'ate'], 'ant': ['tan', 'nat']}\n",
      "\n",
      "Word: bat\n",
      "Sorted Word: abt\n",
      "Anagrams: {'aet': ['eat', 'tea', 'ate'], 'ant': ['tan', 'nat'], 'abt': ['bat']}\n",
      "\n",
      "Final Output: [['eat', 'tea', 'ate'], ['tan', 'nat'], ['bat']]\n"
     ]
    }
   ],
   "source": [
    "# 23\n",
    "# Group Anagrams\n",
    "# Given an array of strings strs, group the anagrams together. You can return the answer in any order.\n",
    "# An Anagram is a word or phrase formed by rearranging the letters of a different word or phrase, typically using all the original letters exactly once.\n",
    "\n",
    "# Example 1:\n",
    "# Input: strs = [\"eat\",\"tea\",\"tan\",\"ate\",\"nat\",\"bat\"]\n",
    "# Output: [[\"bat\"],[\"nat\",\"tan\"],[\"ate\",\"eat\",\"tea\"]]\n",
    "\n",
    "# Example 2:\n",
    "# Input: strs = [\"\"]\n",
    "# Output: [[\"\"]]\n",
    "from collections import defaultdict\n",
    "\n",
    "# Input list of strings\n",
    "strs = [\"eat\", \"tea\", \"tan\", \"ate\", \"nat\", \"bat\"]\n",
    "\n",
    "# Create a defaultdict to store anagrams\n",
    "anagrams = defaultdict(list)\n",
    "\n",
    "# Iterate over each word in the input list\n",
    "for word in strs:\n",
    "    # Sort the characters in the word and join them back into a string\n",
    "    sorted_word = ''.join(sorted(word))\n",
    "    # Append the original word to the list corresponding to its sorted version\n",
    "    anagrams[sorted_word].append(word)\n",
    "\n",
    "    # Print the values of variables in each iteration\n",
    "    print(\"Word:\", word)\n",
    "    print(\"Sorted Word:\", sorted_word) # first occurance will be added as key a new occurance will be added as key else value \n",
    "    print(\"Anagrams:\", dict(anagrams))\n",
    "    print()\n",
    "\n",
    "# Output the grouped anagrams\n",
    "output = list(anagrams.values())\n",
    "print(\"Final Output:\", output)"
   ]
  },
  {
   "cell_type": "code",
   "execution_count": 37,
   "id": "694d2eac",
   "metadata": {},
   "outputs": [
    {
     "name": "stdout",
     "output_type": "stream",
     "text": [
      "[(1, 3), (2, 2)]\n",
      "[1, 2]\n"
     ]
    }
   ],
   "source": [
    "# 24 \n",
    "# Top K frequent elements\n",
    "# Given an integer array nums and an integer k, return the k most frequent elements. You may return the answer in any order.\n",
    "\n",
    "# Example 1:\n",
    "# Input: nums = [1,1,1,2,2,3], k = 2\n",
    "# Output: [1,2]  Cause 1 and 2 are the 2 most frequent elements appears in the array\n",
    "\n",
    "# Example 2:\n",
    "# Input: nums = [1], k = 1\n",
    "# Output: [1]\n",
    "from collections import Counter\n",
    "n = [1,1,1,2,2,3,]\n",
    "k = 2\n",
    "r = Counter(n)\n",
    "l = []\n",
    "res = r.most_common(k)\n",
    "print(res)\n",
    "for i,j in res:\n",
    "    l.append(i)\n",
    "print(l)"
   ]
  },
  {
   "cell_type": "code",
   "execution_count": 14,
   "id": "bcbf0022",
   "metadata": {},
   "outputs": [
    {
     "name": "stdout",
     "output_type": "stream",
     "text": [
      "[24, 12, 8, 6]\n"
     ]
    }
   ],
   "source": [
    "# 25 product of array except self\n",
    "# Given an integer array nums, return an array answer such that answer[i] is equal to the product of all the elements of nums except nums[i].\n",
    "# The product of any prefix or suffix of nums is guaranteed to fit in a 32-bit integer.\n",
    "# You must write an algorithm that runs in O(n) time and without using the division operation.\n",
    "\n",
    "# Example 1:\n",
    "# Input: nums = [1,2,3,4]\n",
    "# Output: [24,12,8,6]\n",
    "\n",
    "# Explanation:\n",
    "# For the element at index 0 (value 1), the product of all other elements is 2 * 3 * 4 = 24.\n",
    "# For the element at index 1 (value 2), the product of all other elements is 1 * 3 * 4 = 12.\n",
    "# For the element at index 2 (value 3), the product of all other elements is 1 * 2 * 4 = 8.\n",
    "# For the element at index 3 (value 4), the product of all other elements is 1 * 2 * 3 = 6.\n",
    "\n",
    "a = [1, 2, 3, 4]\n",
    "result = []\n",
    "for i in range(len(a)):\n",
    "    removed_value = a.pop(i)\n",
    "    multiply_result = 1\n",
    "    for num in a:\n",
    "        multiply_result *= num\n",
    "    result.append(multiply_result)\n",
    "    a.insert(i, removed_value)\n",
    "\n",
    "print(result)\n"
   ]
  },
  {
   "cell_type": "code",
   "execution_count": 34,
   "id": "7afcd145",
   "metadata": {},
   "outputs": [
    {
     "name": "stdout",
     "output_type": "stream",
     "text": [
      "4\n"
     ]
    }
   ],
   "source": [
    "# 26\n",
    "# Longest commmon sequence\n",
    "# Given an unsorted array of integers nums, return the length of the longest consecutive elements sequence.\n",
    "# You must write an algorithm that runs in O(n) time.\n",
    "\n",
    "# Example 1:\n",
    "# Input: nums = [100,4,200,1,3,2]\n",
    "# Output: 4\n",
    "# Explanation: The longest consecutive elements sequence is [1, 2, 3, 4]. Therefore its length is 4.\n",
    "\n",
    "# Example 2:\n",
    "# Input: nums = [0,3,7,2,5,8,4,6,0,1]\n",
    "# Output: 9\n",
    "\n",
    "a = [100, 4, 200, 1, 3, 2]\n",
    "a = set(a) # this will sort\n",
    "out = 0\n",
    "for i in a: # 1,2,3,4,100,200\n",
    "    if i-1 not in a:\n",
    "        st = i\n",
    "        while st in a:\n",
    "            st += 1\n",
    "        out = max(out,st-i)\n",
    "print(out)"
   ]
  },
  {
   "cell_type": "code",
   "execution_count": 8,
   "id": "d499cd93",
   "metadata": {},
   "outputs": [
    {
     "name": "stdout",
     "output_type": "stream",
     "text": [
      "[1, 2]\n"
     ]
    }
   ],
   "source": [
    "# 27\n",
    "# 2 sum II\n",
    "# Given a 1-indexed array of integers numbers that is already sorted in non-decreasing order, find two numbers such that they add up to a specific target number. Let these two numbers be numbers[index1] and numbers[index2] where 1 <= index1 < index2 <= numbers.length.\n",
    "# Return the indices of the two numbers, index1 and index2, added by one as an integer array [index1, index2] of length 2.\n",
    "# The tests are generated such that there is exactly one solution. You may not use the same element twice.\n",
    "# Your solution must use only constant extra space.\n",
    "\n",
    "# Example 1:\n",
    "# Input: numbers = [2,7,11,15], target = 9\n",
    "# Output: [1,2]\n",
    "# Explanation: The sum of 2 and 7 is 9. Therefore, index1 = 1, index2 = 2. We return [1, 2].\n",
    "\n",
    "# Example 2:\n",
    "# Input: numbers = [2,3,4], target = 6\n",
    "# Output: [1,3]\n",
    "# Explanation: The sum of 2 and 4 is 6. Therefore index1 = 1, index2 = 3. We return [1, 3].\n",
    "\n",
    "a = [2, 7, 11, 15]\n",
    "tar = 9\n",
    "l = 0\n",
    "r = len(a) - 1\n",
    "\n",
    "while l <= r:\n",
    "    total_sum = a[l] + a[r]\n",
    "    if total_sum == tar:\n",
    "        print([l+1, r+1])  # Adding 1 to indices to convert from 0-indexed to 1-indexed\n",
    "        break\n",
    "    elif total_sum < tar:\n",
    "        l = l + 1\n",
    "    else:\n",
    "        r = r - 1\n",
    "\n",
    "if l > r:  # If no pair is found, print an empty list\n",
    "    print([])\n"
   ]
  },
  {
   "cell_type": "code",
   "execution_count": 4,
   "id": "72db9850",
   "metadata": {},
   "outputs": [
    {
     "name": "stdout",
     "output_type": "stream",
     "text": [
      "[(-1, 0, 1), (-1, -1, 2)]\n"
     ]
    }
   ],
   "source": [
    "# 28\n",
    "# 3 Sum\n",
    "# Given an integer array nums, return all the triplets [nums[i], nums[j], nums[k]] such that i != j, i != k, and j != k, and nums[i] + nums[j] + nums[k] == 0.\n",
    "# Notice that the solution set must not contain duplicate triplets.\n",
    "\n",
    "# Example 1:\n",
    "# Input: nums = [-1,0,1,2,-1,-4]\n",
    "# Output: [[-1,-1,2],[-1,0,1]]\n",
    "# Explanation: \n",
    "# nums[0] + nums[1] + nums[2] = (-1) + 0 + 1 = 0.\n",
    "# nums[1] + nums[2] + nums[4] = 0 + 1 + (-1) = 0.\n",
    "# nums[0] + nums[3] + nums[4] = (-1) + 2 + (-1) = 0.\n",
    "# The distinct triplets are [-1,0,1] and [-1,-1,2].\n",
    "# Notice that the order of the output and the order of the triplets does not matter.\n",
    "\n",
    "# Example 2:\n",
    "# Input: nums = [0,1,1]\n",
    "# Output: []\n",
    "# Explanation: The only possible triplet does not sum up to 0\n",
    "a = [-1, 0, 1, 2, -1, -4]\n",
    "tar = 0\n",
    "a.sort()\n",
    "s = set()\n",
    "res = []\n",
    "\n",
    "for i in range(len(a) - 2):\n",
    "    left = i + 1\n",
    "    right = len(a) - 1\n",
    "\n",
    "    while left < right:\n",
    "        su = a[i] + a[left] + a[right]\n",
    "\n",
    "        if su == tar:\n",
    "            s.add((a[i], a[left], a[right]))\n",
    "            left += 1\n",
    "            right -= 1\n",
    "        elif su < tar:\n",
    "            left += 1\n",
    "        else:\n",
    "            right -= 1\n",
    "\n",
    "res = list(s)\n",
    "print(res)"
   ]
  },
  {
   "cell_type": "code",
   "execution_count": null,
   "id": "30e3423f",
   "metadata": {},
   "outputs": [],
   "source": [
    "# 29\n",
    "# tapping rain water\n",
    "# Given n non-negative integers representing an elevation map where the width of each bar is 1, \n",
    "# compute how much water it can trap after raining.\n",
    "\n",
    "# Example 1:\n",
    "# Input: height = [0,1,0,2,1,0,1,3,2,1,2,1]\n",
    "# Output: 6\n",
    "# Explanation: The above elevation map (black section) is represented by array\n",
    "height = [0,1,0,2,1,0,1,3,2,1,2,1]\n",
    "left,right = 0, len(height)-1\n",
    "leftmax,rightmax = height[left], height[right]\n",
    "res = 0\n",
    "while left<right:\n",
    "    if leftmax < rightmax:\n",
    "        left += 1\n",
    "        leftmax = max(leftmax,height[left])\n",
    "        res += leftmax - height[left]\n",
    "    else:\n",
    "        right -= 1\n",
    "        rightmax = max(rightmax,height[right])\n",
    "        res  += rightmax - height[right]\n",
    "print(res)\n",
    "    "
   ]
  },
  {
   "cell_type": "code",
   "execution_count": 2,
   "id": "faf02a8e",
   "metadata": {},
   "outputs": [
    {
     "name": "stdout",
     "output_type": "stream",
     "text": [
      "Original Linked List:\n",
      "1 2 3 4 5 \n",
      "Reversed Linked List:\n",
      "5 4 3 2 1 \n"
     ]
    }
   ],
   "source": [
    "# 30\n",
    "# Reverse linked list\n",
    "# input is [1,2,3,4,5]\n",
    "# output is [5,4,3,2,1]\n",
    "class Node:\n",
    "    def __init__(self, data):\n",
    "        self.data = data\n",
    "        self.next = None\n",
    "\n",
    "class LinkedList:\n",
    "    \n",
    "    def __init__(self):\n",
    "        self.head = None\n",
    "\n",
    "    def insert(self, data):\n",
    "        new_node = Node(data)\n",
    "        if self.head is None:\n",
    "            self.head = new_node\n",
    "            return\n",
    "        last = self.head\n",
    "        while last.next:\n",
    "            last = last.next\n",
    "        last.next = new_node\n",
    "\n",
    "    def reverse(self):\n",
    "        prev, curr = None, self.head\n",
    "        while curr:\n",
    "            nxt = curr.next\n",
    "            curr.next = prev\n",
    "            prev = curr\n",
    "            curr = nxt\n",
    "        self.head = prev\n",
    "\n",
    "    def printList(self):\n",
    "        current = self.head\n",
    "        while current:\n",
    "            print(current.data, end=\" \")\n",
    "            current = current.next\n",
    "        print()\n",
    "\n",
    "# Example usage:\n",
    "ll = LinkedList()\n",
    "ll.insert(1)\n",
    "ll.insert(2)\n",
    "ll.insert(3)\n",
    "ll.insert(4)\n",
    "ll.insert(5)\n",
    "\n",
    "print(\"Original Linked List:\")\n",
    "ll.printList()\n",
    "\n",
    "ll.reverse()\n",
    "\n",
    "print(\"Reversed Linked List:\")\n",
    "ll.printList()\n"
   ]
  },
  {
   "cell_type": "code",
   "execution_count": 1,
   "id": "61b18ff3",
   "metadata": {},
   "outputs": [],
   "source": [
    "# 31\n",
    "# Min stack\n",
    "# Design a stack that supports push, pop, top, and retrieving the minimum element in constant time.\n",
    "# Implement the MinStack class:\n",
    "# MinStack() initializes the stack object.\n",
    "# void push(int val) pushes the element val onto the stack.\n",
    "# void pop() removes the element on the top of the stack.\n",
    "# int top() gets the top element of the stack.\n",
    "# int getMin() retrieves the minimum element in the stack.\n",
    "# You must implement a solution with O(1) time complexity for each function.\n",
    "\n",
    "# Example 1:\n",
    "# Input\n",
    "# [\"MinStack\",\"push\",\"push\",\"push\",\"getMin\",\"pop\",\"top\",\"getMin\"]\n",
    "# [[],[-2],[0],[-3],[],[],[],[]]\n",
    "\n",
    "# Output\n",
    "# [null,null,null,null,-3,null,0,-2]\n",
    "\n",
    "# Explanation\n",
    "# MinStack minStack = new MinStack();\n",
    "# minStack.push(-2);\n",
    "# minStack.push(0);\n",
    "# minStack.push(-3);\n",
    "# minStack.getMin(); // return -3\n",
    "# minStack.pop();\n",
    "# minStack.top();    // return 0\n",
    "# minStack.getMin(); // return -2\n",
    "class MinStack:\n",
    "    def __init__(self):\n",
    "        self.stack = []\n",
    "\n",
    "    def push(self, val):\n",
    "        if not self.stack:\n",
    "            self.stack.append((val, val))\n",
    "        else:\n",
    "            mn = min(self.stack[-1][1], val)\n",
    "            self.stack.append((val, mn))\n",
    "\n",
    "    def pop(self):\n",
    "        if self.stack:\n",
    "            self.stack.pop()\n",
    "\n",
    "    def top(self):\n",
    "        if self.stack:\n",
    "            return self.stack[-1][0]\n",
    "        return 0\n",
    "\n",
    "    def getMin(self):\n",
    "        if self.stack:\n",
    "            return self.stack[-1][1]\n",
    "        return 0"
   ]
  },
  {
   "cell_type": "code",
   "execution_count": 2,
   "id": "6383098f",
   "metadata": {},
   "outputs": [
    {
     "name": "stdout",
     "output_type": "stream",
     "text": [
      "2\n"
     ]
    }
   ],
   "source": [
    "# 32\n",
    "# Climbing stairs\n",
    "# You are climbing a staircase. It takes n steps to reach the top.\n",
    "# Each time you can either climb 1 or 2 steps. In how many distinct ways can you climb to the top?\n",
    "\n",
    "# Example 1:\n",
    "# Input: n = 2\n",
    "# Output: 2\n",
    "# Explanation: There are two ways to climb to the top.\n",
    "# 1. 1 step + 1 step\n",
    "# 2. 2 steps\n",
    "\n",
    "# Example 2:\n",
    "# Input: n = 3\n",
    "# Output: 3\n",
    "# Explanation: There are three ways to climb to the top.\n",
    "# 1. 1 step + 1 step + 1 step\n",
    "# 2. 1 step + 2 steps\n",
    "# 3. 2 steps + 1 step\n",
    "n = 2\n",
    "if n == 0 or n == 1:\n",
    "    print(1)\n",
    "prev,curr = 1,1\n",
    "for i in range(2,n+1):\n",
    "    t = curr\n",
    "    curr = prev + curr\n",
    "    prev = t\n",
    "print(curr)"
   ]
  },
  {
   "cell_type": "code",
   "execution_count": 22,
   "id": "05354bb3",
   "metadata": {},
   "outputs": [
    {
     "name": "stdout",
     "output_type": "stream",
     "text": [
      "True\n"
     ]
    }
   ],
   "source": [
    "# 33\n",
    "# Happy number\n",
    "# Write an algorithm to determine if a number n is happy.\n",
    "# A happy number is a number defined by the following process:\n",
    "# Starting with any positive integer, replace the number by the sum of the squares of its digits.\n",
    "# Repeat the process until the number equals 1 (where it will stay), or it loops endlessly in a cycle which does not include 1.\n",
    "# Those numbers for which this process ends in 1 are happy.\n",
    "# Return true if n is a happy number, and false if not.\n",
    "\n",
    "# Example 1:\n",
    "# Input: n = 19\n",
    "# Output: true\n",
    "# Explanation:\n",
    "# 12 + 92 = 82\n",
    "# 82 + 22 = 68\n",
    "# 62 + 82 = 100\n",
    "# 12 + 02 + 02 = 1\n",
    "n = 19\n",
    "hset = set()\n",
    "while n != 1:\n",
    "    if n in hset: print(False)\n",
    "    hset.add(n)\n",
    "    n = sum([int(i) ** 2 for i in str(n)])\n",
    "    \n",
    "else:\n",
    "    print(True)"
   ]
  },
  {
   "cell_type": "code",
   "execution_count": 15,
   "id": "994974ae",
   "metadata": {},
   "outputs": [
    {
     "name": "stdout",
     "output_type": "stream",
     "text": [
      "1\n"
     ]
    }
   ],
   "source": [
    "#34\n",
    "# Third maximum number\n",
    "# Given an integer array nums, return the third distinct maximum number in this array. If the third maximum does not exist, return the maximum number.\n",
    "\n",
    "# Example 1:\n",
    "# Input: nums = [3,2,1]\n",
    "# Output: 1\n",
    "# Explanation:\n",
    "# The first distinct maximum is 3.\n",
    "# The second distinct maximum is 2.\n",
    "# The third distinct maximum is 1.\n",
    "\n",
    "# Example 2:\n",
    "# Input: nums = [1,2]\n",
    "# Output: 2\n",
    "# Explanation:\n",
    "# The first distinct maximum is 2.\n",
    "# The second distinct maximum is 1.\n",
    "# The third distinct maximum does not exist, so the maximum (2) is returned instead.\n",
    "a = [1,1,1]\n",
    "if len(a) == 0:\n",
    "    print(0)\n",
    "if len(a) == 1:\n",
    "    print(a)\n",
    "if len(a) == 2:\n",
    "    print(max(a))\n",
    "if len(a) == 3:\n",
    "    print(max(a))\n",
    "tmax = []\n",
    "b = set(sorted(a))\n",
    "res = list(b)\n",
    "if len(a) > 3:\n",
    "    print(res[-3])"
   ]
  },
  {
   "cell_type": "code",
   "execution_count": 16,
   "id": "f2de7cfc",
   "metadata": {},
   "outputs": [
    {
     "data": {
      "text/plain": [
       "'hello'"
      ]
     },
     "execution_count": 16,
     "metadata": {},
     "output_type": "execute_result"
    }
   ],
   "source": [
    "#35\n",
    "# To lower\n",
    "# Given a string s, return the string after replacing every uppercase letter with the same lowercase letter.\n",
    "\n",
    "# Example 1:\n",
    "# Input: s = \"Hello\"\n",
    "# Output: \"hello\"\n",
    "s = 'Hello'\n",
    "s.lower()"
   ]
  },
  {
   "cell_type": "code",
   "execution_count": 4,
   "id": "e99f5741",
   "metadata": {},
   "outputs": [
    {
     "name": "stdout",
     "output_type": "stream",
     "text": [
      "bababa\n"
     ]
    },
    {
     "data": {
      "text/plain": [
       "True"
      ]
     },
     "execution_count": 4,
     "metadata": {},
     "output_type": "execute_result"
    }
   ],
   "source": [
    "# 36\n",
    "# Repeated Sub string pattern\n",
    "# Given a string s, check if it can be constructed by taking a substring of it and appending multiple copies of the substring together.\n",
    "\n",
    "# Example 1:\n",
    "# Input: s = \"abab\"\n",
    "# Output: true\n",
    "# Explanation: It is the substring \"ab\" twice.\n",
    "\n",
    "# Example 2:\n",
    "# Input: s = \"aba\"\n",
    "# Output: false\n",
    "\n",
    "# Example 3:\n",
    "# Input: s = \"abcabcabcabc\"\n",
    "# Output: true\n",
    "# Explanation: It is the substring \"abc\" four times or the substring \"abcabc\" twice.\n",
    "\n",
    "def repeatstr(s):\n",
    "    ds = (s+s)[1:-1]\n",
    "    print(ds)\n",
    "    return s in ds\n",
    "s = 'abab'\n",
    "repeatstr(s)"
   ]
  },
  {
   "cell_type": "code",
   "execution_count": 4,
   "id": "580dd7c5",
   "metadata": {},
   "outputs": [
    {
     "data": {
      "text/plain": [
       "2"
      ]
     },
     "execution_count": 4,
     "metadata": {},
     "output_type": "execute_result"
    }
   ],
   "source": [
    "# 37\n",
    "# There are n packs where the ith pack contains apple[i] apples. There are m boxes as well, and the ith box has a capacity of capacity[i] apples.\n",
    "# Return the minimum number of boxes you need to select to redistribute these n packs of apples into boxes.\n",
    "# Note that, apples from the same pack can be distributed into different boxes.\n",
    "\n",
    "# Example 1:\n",
    "# Input: apple = [1,3,2], capacity = [4,3,1,5,2]\n",
    "# Output: 2\n",
    "# Explanation: We will use boxes with capacities 4 and 5.\n",
    "# It is possible to distribute the apples as the total capacity is greater than or equal to the total number of apples.\n",
    "\n",
    "# Example 2:\n",
    "# Input: apple = [5,5,5], capacity = [2,4,2,7]\n",
    "# Output: 4\n",
    "# Explanation: We will need to use all the boxes.\n",
    "def minimumBoxes(apple, capacity):\n",
    "    capacity.sort()   # [1,2,3,4,5]\n",
    "    sum_apples = sum(apple)  \n",
    "    ans = 0  \n",
    "\n",
    "    for i in range(len(capacity) - 1, -1, -1):  # 4,-1(stop),-1(step)\n",
    "        ans += 1  \n",
    "        sum_apples -= capacity[i]  # 6 - 5 so sum_apples = 1 \n",
    "        if sum_apples <= 0:  \n",
    "            break\n",
    "    return ans \n",
    "a = [1,3,2]\n",
    "c = [4,3,1,5,2]\n",
    "minimumBoxes(a,c)"
   ]
  },
  {
   "cell_type": "code",
   "execution_count": 3,
   "id": "400741a6",
   "metadata": {},
   "outputs": [
    {
     "data": {
      "text/plain": [
       "['o', 'l', 'l', 'e', 'h']"
      ]
     },
     "execution_count": 3,
     "metadata": {},
     "output_type": "execute_result"
    }
   ],
   "source": [
    "# 38\n",
    "# Reverse string\n",
    "# Write a function that reverses a string. The input string is given as an array of characters s.\n",
    "# You must do this by modifying the input array in-place with O(1) extra memory.\n",
    "\n",
    "# Example 1:\n",
    "# Input: s = [\"h\",\"e\",\"l\",\"l\",\"o\"]\n",
    "# Output: [\"o\",\"l\",\"l\",\"e\",\"h\"]\n",
    "s = [\"h\",\"e\",\"l\",\"l\",\"o\"]\n",
    "s.reverse()\n",
    "s"
   ]
  },
  {
   "cell_type": "code",
   "execution_count": 6,
   "id": "c502155f",
   "metadata": {},
   "outputs": [
    {
     "name": "stdout",
     "output_type": "stream",
     "text": [
      "1\n",
      "2\n"
     ]
    }
   ],
   "source": [
    "#39\n",
    "# Distribute money to maximum children\n",
    "# You are given an integer money denoting the amount of money (in dollars) that you have and another integer children denoting the number of children that you must distribute the money to.\n",
    "# You have to distribute the money according to the following rules:\n",
    "# All money must be distributed.\n",
    "# Everyone must receive at least 1 dollar.\n",
    "# Nobody receives 4 dollars.\n",
    "# Return the maximum number of children who may receive exactly 8 dollars if you distribute the money according to the aforementioned rules. If there is no way to distribute the money, return -1.\n",
    "\n",
    "# Example 1:\n",
    "# Input: money = 20, children = 3\n",
    "# Output: 1\n",
    "# Explanation: \n",
    "# The maximum number of children with 8 dollars will be 1. One of the ways to distribute the money is:\n",
    "# - 8 dollars to the first child.\n",
    "# - 9 dollars to the second child. \n",
    "# - 3 dollars to the third child.\n",
    "# It can be proven that no distribution exists such that number of children getting 8 dollars is greater than 1.\n",
    "\n",
    "# Example 2:\n",
    "# Input: money = 16, children = 2\n",
    "# Output: 2\n",
    "# Explanation: Each child can be given 8 dollars\n",
    "money = 20\n",
    "children = 3\n",
    "if children > money:\n",
    "    print(-1)\n",
    "if money>8*children:\n",
    "    print(children-1)\n",
    "money -= children\n",
    "if children-money//7==1 and money%7==3:\n",
    "    print(money//7-1)\n",
    "print(money//7)"
   ]
  },
  {
   "cell_type": "code",
   "execution_count": 23,
   "id": "e9ee2b03",
   "metadata": {},
   "outputs": [
    {
     "name": "stdout",
     "output_type": "stream",
     "text": [
      "3\n"
     ]
    }
   ],
   "source": [
    "# 40\n",
    "# Find maximum divisibility score\n",
    "# You are given two 0-indexed integer arrays nums and divisors.\n",
    "# The divisibility score of divisors[i] is the number of indices j such that nums[j] is divisible by divisors[i].\n",
    "# Return the integer divisors[i] with the maximum divisibility score. If there is more than one integer with the maximum score, return the minimum of them.\n",
    "\n",
    " \n",
    "# Example 1:\n",
    "# Input: nums = [4,7,9,3,9], divisors = [5,2,3]\n",
    "# Output: 3\n",
    "# Explanation: The divisibility score for every element in divisors is:\n",
    "# The divisibility score of divisors[0] is 0 since no number in nums is divisible by 5.\n",
    "# The divisibility score of divisors[1] is 1 since nums[0] is divisible by 2.\n",
    "# The divisibility score of divisors[2] is 3 since nums[2], nums[3], and nums[4] are divisible by 3.\n",
    "# Since divisors[2] has the maximum divisibility score, we return it.\n",
    "\n",
    "# Example 2:\n",
    "# Input: nums = [20,14,21,10], divisors = [5,7,5]\n",
    "# Output: 5\n",
    "# Explanation: The divisibility score for every element in divisors is:\n",
    "# The divisibility score of divisors[0] is 2 since nums[0] and nums[3] are divisible by 5.\n",
    "# The divisibility score of divisors[1] is 2 since nums[1] and nums[2] are divisible by 7.\n",
    "# The divisibility score of divisors[2] is 2 since nums[0] and nums[3] are divisible by 5.\n",
    "# Since divisors[0], divisors[1], and divisors[2] all have the maximum divisibility score, we return the minimum of them (i.e., divisors[2]).\n",
    "\n",
    "# Example 3:\n",
    "# Input: nums = [12], divisors = [10,16]\n",
    "# Output: 10\n",
    "# Explanation: The divisibility score for every element in divisors is:\n",
    "# The divisibility score of divisors[0] is 0 since no number in nums is divisible by 10.\n",
    "# The divisibility score of divisors[1] is 0 since no number in nums is divisible by 16.\n",
    "# Since divisors[0] and divisors[1] both have the maximum divisibility score, we return the minimum of them (i.e., divisors[0]).\n",
    "n = [4, 7, 9, 3, 9]\n",
    "div = [5, 2, 3]\n",
    "max_score = 0\n",
    "max_divisor = float('inf')\n",
    "\n",
    "for d in div:\n",
    "    count = 0\n",
    "    for num in n:\n",
    "        if num % d == 0:\n",
    "            count += 1\n",
    "    dic[d] = count\n",
    "    max_score = max(max_score, count)\n",
    "\n",
    "for divisor, score in dic.items():\n",
    "    if score == max_score:\n",
    "        max_divisor = min(max_divisor, divisor)\n",
    "\n",
    "print(max_divisor)"
   ]
  },
  {
   "cell_type": "code",
   "execution_count": 18,
   "id": "5ab2a3fd",
   "metadata": {},
   "outputs": [
    {
     "name": "stdout",
     "output_type": "stream",
     "text": [
      "[-2, -1, 0, 2, 3]\n"
     ]
    }
   ],
   "source": [
    "#41\n",
    "# Find the distinct difference array\n",
    "\n",
    "# Example 1:\n",
    "# Input: nums = [1,2,3,4,5]\n",
    "# Output: [-3,-1,1,3,5]\n",
    "# Explanation: For index i = 0, there is 1 element in the prefix and 4 distinct elements in the suffix. Thus, diff[0] = 1 - 4 = -3.\n",
    "# For index i = 1, there are 2 distinct elements in the prefix and 3 distinct elements in the suffix. Thus, diff[1] = 2 - 3 = -1.\n",
    "# For index i = 2, there are 3 distinct elements in the prefix and 2 distinct elements in the suffix. Thus, diff[2] = 3 - 2 = 1.\n",
    "# For index i = 3, there are 4 distinct elements in the prefix and 1 distinct element in the suffix. Thus, diff[3] = 4 - 1 = 3.\n",
    "# For index i = 4, there are 5 distinct elements in the prefix and no elements in the suffix. Thus, diff[4] = 5 - 0 = 5.\n",
    "\n",
    "# Example 2:\n",
    "# Input: nums = [3,2,3,4,2]\n",
    "# Output: [-2,-1,0,2,3]\n",
    "# Explanation: For index i = 0, there is 1 element in the prefix and 3 distinct elements in the suffix. Thus, diff[0] = 1 - 3 = -2.\n",
    "# For index i = 1, there are 2 distinct elements in the prefix and 3 distinct elements in the suffix. Thus, diff[1] = 2 - 3 = -1.\n",
    "# For index i = 2, there are 2 distinct elements in the prefix and 2 distinct elements in the suffix. Thus, diff[2] = 2 - 2 = 0.\n",
    "# For index i = 3, there are 3 distinct elements in the prefix and 1 distinct element in the suffix. Thus, diff[3] = 3 - 1 = 2.\n",
    "# For index i = 4, there are 3 distinct elements in the prefix and no elements in the suffix. Thus, diff[4] = 3 - 0 = 3.\n",
    "n = [3,2,3,4,2]\n",
    "res = []\n",
    "\n",
    "# Iterate through each element in the list\n",
    "for i in range(len(n)):\n",
    "    prefix_set = set(n[:i+1])  # prefix \n",
    "    suffix_set = set(n[i+1:])  # suffix\n",
    "    distinct_difference = len(prefix_set) - len(suffix_set) \n",
    "    res.append(distinct_difference)\n",
    "print(res)\n",
    "\n"
   ]
  },
  {
   "cell_type": "markdown",
   "id": "e33323a3",
   "metadata": {},
   "source": [
    "# Medium level problems"
   ]
  },
  {
   "cell_type": "code",
   "execution_count": 43,
   "id": "ca38d8f7",
   "metadata": {},
   "outputs": [
    {
     "name": "stdout",
     "output_type": "stream",
     "text": [
      "321\n",
      "-321\n",
      "21\n",
      "0\n"
     ]
    }
   ],
   "source": [
    "# 42\n",
    "# Reverse a integer\n",
    "# Given a signed 32-bit integer x, return x with its digits reversed. If reversing x causes the value to go outside the signed 32-bit integer range [-231, 231 - 1], then return 0.\n",
    "# Assume the environment does not allow you to store 64-bit integers (signed or unsigned).\n",
    "\n",
    "# Example 1:\n",
    "# Input: x = 123\n",
    "# Output: 321\n",
    "\n",
    "# Example 2:\n",
    "# Input: x = -123\n",
    "# Output: -321\n",
    "\n",
    "# Example 3:\n",
    "# Input: x = 120\n",
    "# Output: 21\n",
    "def reverse(x: int) -> int:\n",
    "    if x >= 0:\n",
    "        rev = int(str(x)[::-1])\n",
    "    else:\n",
    "        rev = -int(str(-x)[::-1])\n",
    "\n",
    "    if rev < -2**31 or rev > 2**31 - 1:\n",
    "        return 0\n",
    "    else:\n",
    "        return rev\n",
    "\n",
    "# Test cases\n",
    "print(reverse(123)) \n",
    "print(reverse(-123))\n",
    "print(reverse(120)) \n",
    "print(reverse(1534236469))"
   ]
  },
  {
   "cell_type": "code",
   "execution_count": 40,
   "id": "d26719eb",
   "metadata": {},
   "outputs": [
    {
     "name": "stdout",
     "output_type": "stream",
     "text": [
      "-2\n"
     ]
    }
   ],
   "source": [
    "# 43\n",
    "# Divide 2 integers\n",
    "# Given two integers dividend and divisor, divide two integers without using multiplication, division, and mod operator.\n",
    "# The integer division should truncate toward zero, which means losing its fractional part. For example, 8.345 would be truncated to 8, and -2.7335 would be truncated to -2.\n",
    "# Return the quotient after dividing dividend by divisor.\n",
    "# Note: Assume we are dealing with an environment that could only store integers within the 32-bit signed integer range: [−231, 231 − 1]. For this problem, if the quotient is strictly greater than 231 - 1, then return 231 - 1, and if the quotient is strictly less than -231, then return -231.\n",
    "\n",
    "# Example 1:\n",
    "# Input: dividend = 10, divisor = 3\n",
    "# Output: 3\n",
    "# Explanation: 10/3 = 3.33333.. which is truncated to 3.\n",
    "\n",
    "# Example 2:\n",
    "# Input: dividend = 7, divisor = -3\n",
    "# Output: -2\n",
    "# Explanation: 7/-3 = -2.33333.. which is truncated to -2.\n",
    "dividend = 7\n",
    "divisor = -3\n",
    "\n",
    "if ((dividend >= 0 and divisor < 0) or (dividend < 0 and divisor >= 0)):\n",
    "    sign = -1\n",
    "else:\n",
    "    sign = 1\n",
    "\n",
    "if divisor < 0: # for negative\n",
    "    res = len(range(-divisor, dividend+1, -divisor)) # range(3, 8, 3), len = 3\n",
    "\n",
    "else:\n",
    "    res = len(range(0, dividend-divisor+1, divisor)) # range(10, -3), len = 2\n",
    "\n",
    "if sign == -1:\n",
    "    res = -res\n",
    "\n",
    "minus_lim = -2147483648\n",
    "plus_lim  = 2147483647\n",
    "res = min(max(res, minus_lim), plus_lim) # -2 is bigger than -2147483647\n",
    "print(res)  # Output should be -2"
   ]
  },
  {
   "cell_type": "code",
   "execution_count": 3,
   "id": "0332d562",
   "metadata": {},
   "outputs": [
    {
     "name": "stdout",
     "output_type": "stream",
     "text": [
      "3\n"
     ]
    }
   ],
   "source": [
    "# 44\n",
    "# longest substring without repeating characters.\n",
    "# Given a string s, find the length of the longest substring without repeating characters.\n",
    "\n",
    "# Example 1:\n",
    "# Input: s = \"abcabcbb\"\n",
    "# Output: 3\n",
    "# Explanation: The answer is \"abc\", with the length of 3.\n",
    "\n",
    "# Example 2:\n",
    "# Input: s = \"bbbbb\"\n",
    "# Output: 1\n",
    "# Explanation: The answer is \"b\", with the length of 1.\n",
    "\n",
    "# Example 3:\n",
    "# Input: s = \"pwwkew\"\n",
    "# Output: 3\n",
    "# Explanation: The answer is \"wke\", with the length of 3.\n",
    "# Notice that the answer must be a substring, \"pwke\" is a subsequence and not a substring.\n",
    "s = 'abcabcabc'\n",
    "charset = set()\n",
    "lef_p = 0\n",
    "res = 0\n",
    "for righ_p in range(len(s)): # len(s) = 9\n",
    "    while s[righ_p] in charset: # s[0] in set()\n",
    "        charset.remove(s[lef_p])\n",
    "        lef_p += 1\n",
    "    charset.add(s[righ_p])\n",
    "    res = max(res,righ_p-lef_p+1)\n",
    "print(res)"
   ]
  },
  {
   "cell_type": "code",
   "execution_count": 12,
   "id": "65102df3",
   "metadata": {},
   "outputs": [
    {
     "data": {
      "text/plain": [
       "2147483647"
      ]
     },
     "execution_count": 12,
     "metadata": {},
     "output_type": "execute_result"
    }
   ],
   "source": [
    "# 45\n",
    "# String to integer\n",
    "# Implement the myAtoi(string s) function, which converts a string to a 32-bit signed integer (similar to C/C++'s atoi function).\n",
    "# The algorithm for myAtoi(string s) is as follows:\n",
    "# Read in and ignore any leading whitespace.\n",
    "# Check if the next character (if not already at the end of the string) is '-' or '+'. Read this character in if it is either. This determines if the final result is negative or positive respectively. Assume the result is positive if neither is present.\n",
    "# Read in next the characters until the next non-digit character or the end of the input is reached. The rest of the string is ignored.\n",
    "# Convert these digits into an integer (i.e. \"123\" -> 123, \"0032\" -> 32). If no digits were read, then the integer is 0. Change the sign as necessary (from step 2).\n",
    "# If the integer is out of the 32-bit signed integer range [-231, 231 - 1], then clamp the integer so that it remains in the range. Specifically, integers less than -231 should be clamped to -231, and integers greater than 231 - 1 should be clamped to 231 - 1.\n",
    "# Return the integer as the final result.\n",
    "# Note:\n",
    "\n",
    "# Only the space character ' ' is considered a whitespace character.\n",
    "# Do not ignore any characters other than the leading whitespace or the rest of the string after the digits.\n",
    " \n",
    "\n",
    "# Example 1:\n",
    "# Input: s = \"42\"\n",
    "# Output: 42\n",
    "# Explanation: The underlined characters are what is read in, the caret is the current reader position.\n",
    "# Step 1: \"42\" (no characters read because there is no leading whitespace)\n",
    "#          ^\n",
    "# Step 2: \"42\" (no characters read because there is neither a '-' nor '+')\n",
    "#          ^\n",
    "# Step 3: \"42\" (\"42\" is read in)\n",
    "#        ^\n",
    "# The parsed integer is 42.\n",
    "# Since 42 is in the range [-231, 231 - 1], the final result is 42.\n",
    "# class Solution(object)\n",
    "def myAtoi(s):\n",
    "    s = s.strip()\n",
    "    if not s:\n",
    "        return 0\n",
    "    sign = -1 if s[0] == '-' else 1\n",
    "    if s[0] in ['+', '-']:\n",
    "        s = s[1:]\n",
    "    res = 0\n",
    "    for c in s:\n",
    "        if c.isdigit():\n",
    "            res = res * 10 + int(c)\n",
    "        else:\n",
    "            break\n",
    "    res *= sign\n",
    "    return max(-2**31, min(2**31 - 1, res))\n",
    "myAtoi(\"00999999999999999\")"
   ]
  },
  {
   "cell_type": "code",
   "execution_count": 5,
   "id": "71d5447d",
   "metadata": {},
   "outputs": [
    {
     "name": "stdout",
     "output_type": "stream",
     "text": [
      "0.25\n"
     ]
    }
   ],
   "source": [
    "# 46\n",
    "# POW(x,n)\n",
    "# Implement pow(x, n), which calculates x raised to the power n (i.e., xn).\n",
    "\n",
    "# Example 1:\n",
    "# Input: x = 2.00000, n = 10\n",
    "# Output: 1024.00000\n",
    "\n",
    "# Example 2:\n",
    "# Input: x = 2.10000, n = 3\n",
    "# Output: 9.26100\n",
    "\n",
    "# Example 3:\n",
    "# Input: x = 2.00000, n = -2\n",
    "# Output: 0.25000\n",
    "# Explanation: 2-2 = 1/22 = 1/4 = 0.25\n",
    "x = 2.00000\n",
    "n = -2\n",
    "print(x**n)"
   ]
  },
  {
   "cell_type": "code",
   "execution_count": 15,
   "id": "cd3e3149",
   "metadata": {},
   "outputs": [
    {
     "data": {
      "text/plain": [
       "'apple'"
      ]
     },
     "execution_count": 15,
     "metadata": {},
     "output_type": "execute_result"
    }
   ],
   "source": [
    "# 47\n",
    "# Longest word in dictionary\n",
    "# Given an array of strings words representing an English Dictionary, return the longest word in words that can be built one character at a time by other words in words.\n",
    "# If there is more than one possible answer, return the longest word with the smallest lexicographical order. If there is no answer, return the empty string.\n",
    "# Note that the word should be built from left to right with each additional character being added to the end of a previous word. \n",
    "\n",
    "# Example 1:\n",
    "# Input: words = [\"w\",\"wo\",\"wor\",\"worl\",\"world\"]\n",
    "# Output: \"world\"\n",
    "# Explanation: The word \"world\" can be built one character at a time by \"w\", \"wo\", \"wor\", and \"worl\".\n",
    "\n",
    "words = [\"a\",\"banana\",\"app\",\"appl\",\"ap\",\"apply\",\"apple\"]\n",
    "words.sort()\n",
    "word_set, ans = set(['']),''\n",
    "for i in words:\n",
    "    if i[:-1] in word_set:\n",
    "        if len(i) > len(ans):\n",
    "            ans = i\n",
    "        word_set.add(i)\n",
    "ans\n"
   ]
  },
  {
   "cell_type": "code",
   "execution_count": 12,
   "id": "6acf27a8",
   "metadata": {},
   "outputs": [
    {
     "name": "stdout",
     "output_type": "stream",
     "text": [
      "6\n"
     ]
    }
   ],
   "source": [
    "# 48\n",
    "# Multiply srings\n",
    "# Given two non-negative integers num1 and num2 represented as strings, return the product of num1 and num2, also represented as a string.\n",
    "# Note: You must not use any built-in BigInteger library or convert the inputs to integer directly.\n",
    "\n",
    "# Example 1:\n",
    "# Input: num1 = \"2\", num2 = \"3\"\n",
    "# Output: \"6\"\n",
    "num1 = \"2\"\n",
    "num2 = \"3\"\n",
    "s1 = 0\n",
    "for i in num1:\n",
    "    s1 = s1*10 + (ord(i)-48) # 50 - 48 = 2\n",
    "s2 = 0\n",
    "for j in num2:\n",
    "    s2 = s2*10 + (ord(j) - 48) # 51 - 48 = 3\n",
    "print(s1*s2)"
   ]
  },
  {
   "cell_type": "code",
   "execution_count": 17,
   "id": "5b047bc4",
   "metadata": {},
   "outputs": [
    {
     "name": "stdout",
     "output_type": "stream",
     "text": [
      "[0, 0, 1, 1, 2, 2]\n",
      "[0, 0, 1, 1, 2, 2]\n"
     ]
    }
   ],
   "source": [
    "# 49\n",
    "# Sort colors\n",
    "# Given an array nums with n objects colored red, white, or blue, sort them in-place so that objects of the same color are adjacent, with the colors in the order red, white, and blue.\n",
    "# We will use the integers 0, 1, and 2 to represent the color red, white, and blue, respectively.\n",
    "# You must solve this problem without using the library's sort function.\n",
    "\n",
    "# Example 1:\n",
    "# Input: nums = [2,0,2,1,1,0]\n",
    "# Output: [0,0,1,1,2,2]\n",
    "nums = [2,0,2,1,1,0]\n",
    "ze = nums.count(0)\n",
    "on = nums.count(1)\n",
    "tw = nums.count(2)\n",
    "zee = [0 for i in range(ze)]\n",
    "one = [1 for j in range(on)]\n",
    "two = [2 for k in range(tw)]\n",
    "print(zee+one+two)\n",
    "\n",
    "red,white,blue = 0,0,len(nums)-1\n",
    "while(white<=blue):\n",
    "    if nums[white] == 0: \n",
    "        nums[white],nums[red] = nums[red],nums[white]\n",
    "        white += 1\n",
    "        red += 1\n",
    "    elif nums[white] == 1: \n",
    "        white += 1\n",
    "    else: \n",
    "        nums[white],nums[blue] = nums[blue],nums[white]\n",
    "        blue-=1\n",
    "print(nums)"
   ]
  },
  {
   "cell_type": "code",
   "execution_count": 18,
   "id": "4fb3fb83",
   "metadata": {},
   "outputs": [
    {
     "name": "stdout",
     "output_type": "stream",
     "text": [
      "[]\n"
     ]
    }
   ],
   "source": [
    "# 50\n",
    "# find all duplicates in the array\n",
    "# Given an integer array nums of length n where all the integers of nums are in the range [1, n] and each integer appears once or twice, return an array of all the integers that appears twice.\n",
    "# You must write an algorithm that runs in O(n) time and uses only constant extra space.\n",
    "# Example 1:\n",
    "# Input: nums = [4,3,2,7,8,2,3,1]\n",
    "# Output: [2,3]\n",
    "nums = [4, 3, 2, 7, 8, 2, 3, 1]\n",
    "from collections import Counter\n",
    "\n",
    "# Count the occurrences of each element in nums\n",
    "counter = Counter(sorted(nums))\n",
    "\n",
    "# Clear the nums list\n",
    "nums.clear()\n",
    "\n",
    "# Iterate over the items in the Counter\n",
    "for num, count in counter.items():\n",
    "    if count >= 2:\n",
    "        nums.append(num)\n",
    "\n",
    "print(nums)        "
   ]
  },
  {
   "cell_type": "code",
   "execution_count": 42,
   "id": "2670bd7a",
   "metadata": {},
   "outputs": [
    {
     "name": "stdout",
     "output_type": "stream",
     "text": [
      "Duplicates: [2, 3]\n"
     ]
    }
   ],
   "source": []
  },
  {
   "cell_type": "code",
   "execution_count": null,
   "id": "e4233e41",
   "metadata": {},
   "outputs": [],
   "source": []
  },
  {
   "cell_type": "code",
   "execution_count": 54,
   "id": "5d97f176",
   "metadata": {},
   "outputs": [
    {
     "name": "stdout",
     "output_type": "stream",
     "text": [
      "[2, 3]\n"
     ]
    }
   ],
   "source": []
  },
  {
   "cell_type": "code",
   "execution_count": null,
   "id": "03aaf372",
   "metadata": {},
   "outputs": [],
   "source": []
  },
  {
   "cell_type": "code",
   "execution_count": null,
   "id": "018641a9",
   "metadata": {},
   "outputs": [],
   "source": []
  }
 ],
 "metadata": {
  "kernelspec": {
   "display_name": "Python 3 (ipykernel)",
   "language": "python",
   "name": "python3"
  },
  "language_info": {
   "codemirror_mode": {
    "name": "ipython",
    "version": 3
   },
   "file_extension": ".py",
   "mimetype": "text/x-python",
   "name": "python",
   "nbconvert_exporter": "python",
   "pygments_lexer": "ipython3",
   "version": "3.11.5"
  }
 },
 "nbformat": 4,
 "nbformat_minor": 5
}
