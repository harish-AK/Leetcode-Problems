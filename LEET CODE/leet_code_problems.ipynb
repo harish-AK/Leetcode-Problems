{
 "cells": [
  {
   "cell_type": "code",
   "execution_count": 1,
   "id": "e94f563e-38a0-4232-8b94-03eac8d2f0d9",
   "metadata": {},
   "outputs": [
    {
     "name": "stdout",
     "output_type": "stream",
     "text": [
      "0 1\n",
      "0 4\n"
     ]
    }
   ],
   "source": [
    "#  day 1\n",
    "# 1. Two Sum\n",
    "# Easy\n",
    "# Topics\n",
    "# Companies\n",
    "# Hint\n",
    "# Given an array of integers nums and an integer target, return indices of the two numbers such that they add up to target.\n",
    "\n",
    "# You may assume that each input would have exactly one solution, and you may not use the same element twice.\n",
    "\n",
    "# You can return the answer in any order.\n",
    "\n",
    " \n",
    "\n",
    "# Example 1:\n",
    "\n",
    "# Input: nums = [2,7,11,15], target = 9\n",
    "# Output: [0,1]\n",
    "# Explanation: Because nums[0] + nums[1] == 9, we return [0, 1].\n",
    "\n",
    "b=[2,7,11,15,7]\n",
    "tar=9\n",
    "for i in range(len(b)-1):\n",
    "    for j in range(i+1,len(b)):\n",
    "        if b[i] + b[j] == tar:\n",
    "            print(i,j)\n",
    "        else:\n",
    "            pass\n",
    "\n"
   ]
  },
  {
   "cell_type": "code",
   "execution_count": 32,
   "id": "8de8555c-06db-48b0-b4ba-7294c654086e",
   "metadata": {},
   "outputs": [
    {
     "name": "stdout",
     "output_type": "stream",
     "text": [
      "False\n"
     ]
    }
   ],
   "source": [
    "# day 2\n",
    "# Given an integer x, return true if x is a \n",
    "# palindrome, and false otherwise.\n",
    "\n",
    "# Example 1:\n",
    "\n",
    "# Input: x = 121\n",
    "# Output: true\n",
    "# Explanation: 121 reads as 121 from left to right and from right to left.\n",
    "\n",
    "x=10\n",
    "b=str(x)\n",
    "c=b[::-1] # : - start, : - step, : - end\n",
    "if b==b[::-1]:\n",
    "    print(True)\n",
    "else:\n",
    "    print(False)"
   ]
  },
  {
   "cell_type": "code",
   "execution_count": 23,
   "id": "96e035f5-f2ba-4adb-9374-4607d9d91f3c",
   "metadata": {},
   "outputs": [
    {
     "name": "stdout",
     "output_type": "stream",
     "text": [
      "[5, -1, 100, -10, 1000, -100, 1000]\n",
      "1994\n"
     ]
    }
   ],
   "source": [
    "# day 2 2nd problem\n",
    "# Roman numerals are represented by seven different symbols: I, V, X, L, C, D and M.\n",
    "\n",
    "# Symbol       Value\n",
    "# I             1\n",
    "# V             5\n",
    "# X             10\n",
    "# L             50\n",
    "# C             100\n",
    "# D             500\n",
    "# M             1000\n",
    "# Example 2:\n",
    "\n",
    "# Input: s = \"LVIII\"\n",
    "# Output: 58\n",
    "# Explanation: L = 50, V= 5, III = 3.\n",
    "s = \"MCMXCIV\"\n",
    "l = []\n",
    "dic = {'I':1, 'V':5, 'X':10, 'L':50, 'C':100, 'D':500, 'M':1000}\n",
    "\n",
    "prev_val = 0\n",
    "\n",
    "for n in reversed(s): # reversed s = VICXMCM\n",
    "    val = dic[n] # in iteration 1 dic['V'] = 5, val = 5\n",
    "    \n",
    "    if val < prev_val: # 5 < 0 in iteration 1\n",
    "        l.append(-val) # -5\n",
    "    else:\n",
    "        l.append(val)\n",
    "    \n",
    "    prev_val = val # in iteration 1 prev_val = 5\n",
    "print(l)\n",
    "print(sum(l))\n"
   ]
  },
  {
   "cell_type": "code",
   "execution_count": 33,
   "id": "73b2b222-50c1-4f29-9424-1d06c231e9f4",
   "metadata": {},
   "outputs": [
    {
     "name": "stdout",
     "output_type": "stream",
     "text": [
      "2\n"
     ]
    }
   ],
   "source": [
    "# day 3\n",
    "# remove duplicates from sorted array\n",
    "# Given an integer array nums sorted in non-decreasing order, remove the duplicates in-place such that each unique element appears only once. \n",
    "# The relative order of the elements should be kept the same. Then return the number of unique elements in nums.\n",
    "\n",
    "# Consider the number of unique elements of nums to be k, to get accepted, you need to do the following things:\n",
    "\n",
    "# Change the array nums such that the first k elements of nums contain the unique elements in the order they were present in nums initially. \n",
    "# The remaining elements of nums are not important as well as the size of nums.\n",
    "# Return k.\n",
    "\n",
    "# Example 1:\n",
    "\n",
    "# Input: nums = [1,1,2]\n",
    "# Output: 2, nums = [1,2,_]\n",
    "# Explanation: Your function should return k = 2, with the first two elements of nums being 1 and 2 respectively.\n",
    "# It does not matter what you leave beyond the returned k (hence they are underscores).\n",
    "a=[1,1,2]\n",
    "left_poi = 1\n",
    "for right_poi in range(1,len(a)):\n",
    "    if a[right_poi] != a[right_poi - 1]:\n",
    "        a[left_poi] = a[right_poi] # if the previous value  is not equal to current one relplace the value of a with the current one  \n",
    "        left_poi += 1\n",
    "print(left_poi)\n",
    "# this is an sorted array so that  we only need to check the previous number is same or not\n",
    "# this is 2 pointer algorithm"
   ]
  },
  {
   "cell_type": "code",
   "execution_count": 45,
   "id": "aa188081-fbaf-4b8b-b21b-02683f343875",
   "metadata": {},
   "outputs": [
    {
     "name": "stdout",
     "output_type": "stream",
     "text": [
      "['flight', 'flow', 'flower']\n",
      "\n",
      "\n",
      "\n",
      "\n",
      "fl\n"
     ]
    }
   ],
   "source": [
    "# day 5\n",
    "# LONGEST COMMON PREFIX\n",
    "# Example 1:\n",
    "\n",
    "# Input: strs = [\"flower\",\"flow\",\"flight\"]\n",
    "# Output: \"fl\"\n",
    "# Example 2:\n",
    "\n",
    "# Input: strs = [\"dog\",\"racecar\",\"car\"]\n",
    "# Output: \"\"\n",
    "# Explanation: There is no common prefix among the input strings.\n",
    "strs = [\"flower\",\"flow\",\"flight\"]\n",
    "v=sorted(strs) # ['flight','flow','flower']\n",
    "print(v)\n",
    "first=v[0] # flight\n",
    "last=v[-1] # flower\n",
    "ans=\"\"\n",
    "for i in range(min(len(first),len(last))): # min(len(first),len(last)) = 6 so for i in range(6)\n",
    "    if first[i] != last[i]: # checking 1st char of 1st and 1st char of last words \n",
    "        print(\"\")\n",
    "    else:\n",
    "        ans+=first[i]\n",
    "print(ans)"
   ]
  },
  {
   "cell_type": "code",
   "execution_count": 45,
   "id": "d76f55ee-cbe1-4d38-bad9-3cb6faaa8dc7",
   "metadata": {},
   "outputs": [
    {
     "name": "stdout",
     "output_type": "stream",
     "text": [
      "III\n"
     ]
    }
   ],
   "source": [
    "# day 6\n",
    "# For example, 2 is written as II in Roman numeral, just two one's added together. 12 is written as XII, which is simply X + II. \n",
    "# The number 27 is written as XXVII, which is XX + V + II.\n",
    "# Example 1:\n",
    "\n",
    "# Input: num = 3\n",
    "# Output: \"III\"\n",
    "# Explanation: 3 is represented as 3 ones.\n",
    "# Example 2:\n",
    "\n",
    "# Input: num = 58\n",
    "# Output: \"LVIII\"\n",
    "# Explanation: L = 50, V = 5, III = 3.\n",
    "# Example 3:\n",
    "\n",
    "# Input: num = 1994\n",
    "# Output: \"MCMXCIV\"\n",
    "# Explanation: M = 1000, CM = 900, XC = 90 and IV = 4.\n",
    "\n",
    "# dic = {'I':1, 'V':5, 'X':10, 'L':50, 'C':100, 'D':500, 'M':1000}\n",
    "\n",
    "ones = [\"\", \"I\", \"II\", \"III\", \"IV\", \"V\", \"VI\", \"VII\", \"VIII\", \"IX\"]\n",
    "tens = [\"\", \"X\", \"XX\", \"XXX\", \"XL\", \"L\", \"LX\", \"LXX\", \"LXXX\", \"XC\"]\n",
    "hrns = [\"\", \"C\", \"CC\", \"CCC\", \"CD\", \"D\", \"DC\", \"DCC\", \"DCCC\", \"CM\"]\n",
    "ths = [\"\", \"M\", \"MM\", \"MMM\"]\n",
    "num=3\n",
    "print(ths[num // 1000] + hrns[(num % 1000) // 100] + tens[(num % 100) // 10] + ones[num % 10])"
   ]
  },
  {
   "cell_type": "code",
   "execution_count": null,
   "id": "2175ec97-78c8-4bd4-81f6-a5345a48ef74",
   "metadata": {},
   "outputs": [],
   "source": []
  },
  {
   "cell_type": "code",
   "execution_count": null,
   "id": "2cf90bba-a438-441d-9787-de8f380e52bf",
   "metadata": {},
   "outputs": [],
   "source": []
  }
 ],
 "metadata": {
  "kernelspec": {
   "display_name": "Python 3 (ipykernel)",
   "language": "python",
   "name": "python3"
  },
  "language_info": {
   "codemirror_mode": {
    "name": "ipython",
    "version": 3
   },
   "file_extension": ".py",
   "mimetype": "text/x-python",
   "name": "python",
   "nbconvert_exporter": "python",
   "pygments_lexer": "ipython3",
   "version": "3.11.5"
  }
 },
 "nbformat": 4,
 "nbformat_minor": 5
}
