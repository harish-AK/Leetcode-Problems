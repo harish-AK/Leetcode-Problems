{
 "cells": [
  {
   "cell_type": "code",
   "execution_count": 1,
   "id": "e94f563e-38a0-4232-8b94-03eac8d2f0d9",
   "metadata": {},
   "outputs": [
    {
     "name": "stdout",
     "output_type": "stream",
     "text": [
      "0 1\n",
      "0 4\n"
     ]
    }
   ],
   "source": [
    "# 1\n",
    "#  day 1\n",
    "# 1. Two Sum\n",
    "# Easy\n",
    "# Topics\n",
    "# Companies\n",
    "# Hint\n",
    "# Given an array of integers nums and an integer target, return indices of the two numbers such that they add up to target.\n",
    "\n",
    "# You may assume that each input would have exactly one solution, and you may not use the same element twice.\n",
    "\n",
    "# You can return the answer in any order.\n",
    "\n",
    " \n",
    "\n",
    "# Example 1:\n",
    "\n",
    "# Input: nums = [2,7,11,15], target = 9\n",
    "# Output: [0,1]\n",
    "# Explanation: Because nums[0] + nums[1] == 9, we return [0, 1].\n",
    "\n",
    "b=[2,7,11,15,7]\n",
    "tar=9\n",
    "for i in range(len(b)-1):\n",
    "    for j in range(i+1,len(b)):\n",
    "        if b[i] + b[j] == tar:\n",
    "            print(i,j)\n",
    "        else:\n",
    "            pass\n",
    "\n"
   ]
  },
  {
   "cell_type": "code",
   "execution_count": 32,
   "id": "8de8555c-06db-48b0-b4ba-7294c654086e",
   "metadata": {},
   "outputs": [
    {
     "name": "stdout",
     "output_type": "stream",
     "text": [
      "False\n"
     ]
    }
   ],
   "source": [
    "# 2\n",
    "# day 2\n",
    "# Given an integer x, return true if x is a \n",
    "# palindrome, and false otherwise.\n",
    "\n",
    "# Example 1:\n",
    "\n",
    "# Input: x = 121\n",
    "# Output: true\n",
    "# Explanation: 121 reads as 121 from left to right and from right to left.\n",
    "\n",
    "x=10\n",
    "b=str(x)\n",
    "c=b[::-1] # : - start, : - step, : - end\n",
    "if b==b[::-1]:\n",
    "    print(True)\n",
    "else:\n",
    "    print(False)"
   ]
  },
  {
   "cell_type": "code",
   "execution_count": 23,
   "id": "96e035f5-f2ba-4adb-9374-4607d9d91f3c",
   "metadata": {},
   "outputs": [
    {
     "name": "stdout",
     "output_type": "stream",
     "text": [
      "[5, -1, 100, -10, 1000, -100, 1000]\n",
      "1994\n"
     ]
    }
   ],
   "source": [
    "# 3\n",
    "# day 2 2nd problem\n",
    "# Roman numerals are represented by seven different symbols: I, V, X, L, C, D and M.\n",
    "\n",
    "# Symbol       Value\n",
    "# I             1\n",
    "# V             5\n",
    "# X             10\n",
    "# L             50\n",
    "# C             100\n",
    "# D             500\n",
    "# M             1000\n",
    "# Example 2:\n",
    "\n",
    "# Input: s = \"LVIII\"\n",
    "# Output: 58\n",
    "# Explanation: L = 50, V= 5, III = 3.\n",
    "s = \"MCMXCIV\"\n",
    "l = []\n",
    "dic = {'I':1, 'V':5, 'X':10, 'L':50, 'C':100, 'D':500, 'M':1000}\n",
    "\n",
    "prev_val = 0\n",
    "\n",
    "for n in reversed(s): # reversed s = VICXMCM\n",
    "    val = dic[n] # in iteration 1 dic['V'] = 5, val = 5\n",
    "    \n",
    "    if val < prev_val: # 5 < 0 in iteration 1\n",
    "        l.append(-val) # -5\n",
    "    else:\n",
    "        l.append(val)\n",
    "    \n",
    "    prev_val = val # in iteration 1 prev_val = 5\n",
    "print(l)\n",
    "print(sum(l))\n"
   ]
  },
  {
   "cell_type": "code",
   "execution_count": 33,
   "id": "73b2b222-50c1-4f29-9424-1d06c231e9f4",
   "metadata": {},
   "outputs": [
    {
     "name": "stdout",
     "output_type": "stream",
     "text": [
      "2\n"
     ]
    }
   ],
   "source": [
    "#4\n",
    "# day 3\n",
    "# remove duplicates from sorted array\n",
    "# Given an integer array nums sorted in non-decreasing order, remove the duplicates in-place such that each unique element appears only once. \n",
    "# The relative order of the elements should be kept the same. Then return the number of unique elements in nums.\n",
    "\n",
    "# Consider the number of unique elements of nums to be k, to get accepted, you need to do the following things:\n",
    "\n",
    "# Change the array nums such that the first k elements of nums contain the unique elements in the order they were present in nums initially. \n",
    "# The remaining elements of nums are not important as well as the size of nums.\n",
    "# Return k.\n",
    "\n",
    "# Example 1:\n",
    "\n",
    "# Input: nums = [1,1,2]\n",
    "# Output: 2, nums = [1,2,_]\n",
    "# Explanation: Your function should return k = 2, with the first two elements of nums being 1 and 2 respectively.\n",
    "# It does not matter what you leave beyond the returned k (hence they are underscores).\n",
    "a=[1,1,2]\n",
    "left_poi = 1\n",
    "for right_poi in range(1,len(a)):\n",
    "    if a[right_poi] != a[right_poi - 1]:\n",
    "        a[left_poi] = a[right_poi] # if the previous value  is not equal to current one relplace the value of 'a' with the current one  \n",
    "        left_poi += 1\n",
    "print(left_poi)\n",
    "# this is an sorted array so that  we only need to check the previous number is same or not\n",
    "# this is 2 pointer algorithm"
   ]
  },
  {
   "cell_type": "code",
   "execution_count": 45,
   "id": "aa188081-fbaf-4b8b-b21b-02683f343875",
   "metadata": {},
   "outputs": [
    {
     "name": "stdout",
     "output_type": "stream",
     "text": [
      "['flight', 'flow', 'flower']\n",
      "\n",
      "\n",
      "\n",
      "\n",
      "fl\n"
     ]
    }
   ],
   "source": [
    "#5\n",
    "# day 5\n",
    "# LONGEST COMMON PREFIX\n",
    "# Example 1:\n",
    "\n",
    "# Input: strs = [\"flower\",\"flow\",\"flight\"]\n",
    "# Output: \"fl\"\n",
    "# Example 2:\n",
    "\n",
    "# Input: strs = [\"dog\",\"racecar\",\"car\"]\n",
    "# Output: \"\"\n",
    "# Explanation: There is no common prefix among the input strings.\n",
    "strs = [\"flower\",\"flow\",\"flight\"]\n",
    "v=sorted(strs) # ['flight','flow','flower']\n",
    "print(v)\n",
    "first=v[0] # flight\n",
    "last=v[-1] # flower\n",
    "ans=\"\"\n",
    "for i in range(min(len(first),len(last))): # min(len(first),len(last)) = 6 so for i in range(6)\n",
    "    if first[i] != last[i]: # checking 1st char of 1st and 1st char of last words \n",
    "        print(\"\")\n",
    "    else:\n",
    "        ans+=first[i]\n",
    "print(ans)"
   ]
  },
  {
   "cell_type": "code",
   "execution_count": 45,
   "id": "d76f55ee-cbe1-4d38-bad9-3cb6faaa8dc7",
   "metadata": {},
   "outputs": [
    {
     "name": "stdout",
     "output_type": "stream",
     "text": [
      "III\n"
     ]
    }
   ],
   "source": [
    "# 6\n",
    "# day 6\n",
    "# For example, 2 is written as II in Roman numeral, just two one's added together. 12 is written as XII, which is simply X + II. \n",
    "# The number 27 is written as XXVII, which is XX + V + II.\n",
    "# Example 1:\n",
    "\n",
    "# Input: num = 3\n",
    "# Output: \"III\"\n",
    "# Explanation: 3 is represented as 3 ones.\n",
    "# Example 2:\n",
    "\n",
    "# Input: num = 58\n",
    "# Output: \"LVIII\"\n",
    "# Explanation: L = 50, V = 5, III = 3.\n",
    "# Example 3:\n",
    "\n",
    "# Input: num = 1994\n",
    "# Output: \"MCMXCIV\"\n",
    "# Explanation: M = 1000, CM = 900, XC = 90 and IV = 4.\n",
    "\n",
    "# dic = {'I':1, 'V':5, 'X':10, 'L':50, 'C':100, 'D':500, 'M':1000}\n",
    "\n",
    "ones = [\"\", \"I\", \"II\", \"III\", \"IV\", \"V\", \"VI\", \"VII\", \"VIII\", \"IX\"]\n",
    "tens = [\"\", \"X\", \"XX\", \"XXX\", \"XL\", \"L\", \"LX\", \"LXX\", \"LXXX\", \"XC\"]\n",
    "hrns = [\"\", \"C\", \"CC\", \"CCC\", \"CD\", \"D\", \"DC\", \"DCC\", \"DCCC\", \"CM\"]\n",
    "ths = [\"\", \"M\", \"MM\", \"MMM\"]\n",
    "num=3\n",
    "print(ths[num // 1000] + hrns[(num % 1000) // 100] + tens[(num % 100) // 10] + ones[num % 10])"
   ]
  },
  {
   "cell_type": "code",
   "execution_count": 15,
   "id": "2175ec97-78c8-4bd4-81f6-a5345a48ef74",
   "metadata": {},
   "outputs": [
    {
     "name": "stdout",
     "output_type": "stream",
     "text": [
      "[2, 2] 2\n"
     ]
    }
   ],
   "source": [
    "# 7\n",
    "# day 7\n",
    "# Remove element\n",
    "# Given an integer array nums and an integer val, remove all occurrences of val in nums in-place. \n",
    "# The order of the elements may be changed. Then return the number of elements in nums which are not equal to val.\n",
    "# Example 1:\n",
    "\n",
    "# Input: nums = [3,2,2,3], val = 3\n",
    "# Output: 2, nums = [2,2,_,_]\n",
    "# Explanation: Your function should return k = 2, with the first two elements of nums being 2.\n",
    "# It does not matter what you leave beyond the returned k (hence they are underscores).\n",
    "# Example 2:\n",
    "\n",
    "# Input: nums = [0,1,2,2,3,0,4,2], val = 2\n",
    "# Output: 5, nums = [0,1,4,0,3,_,_,_]\n",
    "# Explanation: Your function should return k = 5, with the first five elements of nums containing 0, 0, 1, 3, and 4.\n",
    "# Note that the five elements can be returned in any order.\n",
    "# It does not matter what you leave beyond the returned k (hence they are underscores).\n",
    "\n",
    "n = [3,2,2,3]\n",
    "val = 3\n",
    "index = 0\n",
    "\n",
    "for i in range(len(n)): # from 0 to 4\n",
    "    if n[i] != val: # iteration 1 n[0] = 3 it will skip, iteration 2 n[1] = 2 \n",
    "        n[index] = n[i] #  n[index] wihich is 0 so n[0] = n[i](which is n[1] which is 2) it becomes n[index][0] = n[i][1] = 2, which will result n[0] = 2  \n",
    "        index += 1 # idex becomes 2\n",
    "\n",
    "n = n[:index]\n",
    "print(n,len(n))\n",
    "        "
   ]
  },
  {
   "cell_type": "code",
   "execution_count": 16,
   "id": "2cf90bba-a438-441d-9787-de8f380e52bf",
   "metadata": {},
   "outputs": [
    {
     "name": "stdout",
     "output_type": "stream",
     "text": [
      "-1\n"
     ]
    }
   ],
   "source": [
    "# 8\n",
    "# day 8\n",
    "# Find the index of the first occurrence in a string\n",
    "# Given two strings needle and haystack, return the index of the first occurrence of needle in haystack, or -1 if needle is not part of haystack.\n",
    "\n",
    "# Example 1:\n",
    "\n",
    "# Input: haystack = \"sadbutsad\", needle = \"sad\"\n",
    "# Output: 0\n",
    "# Explanation: \"sad\" occurs at index 0 and 6.\n",
    "# The first occurrence is at index 0, so we return 0\n",
    "\n",
    "hay = \"leetcode\"\n",
    "need = \"leeto\"\n",
    "res = []\n",
    "for index, ele in enumerate(hay):\n",
    "    if hay[index:index+len(need)] == need:\n",
    "        res.append(index)\n",
    "if len(res) == 0:\n",
    "    print(-1)\n",
    "else:\n",
    "    print(res)"
   ]
  },
  {
   "cell_type": "code",
   "execution_count": 6,
   "id": "18a1d2dd-d885-4ec2-864d-73a622b3c5b6",
   "metadata": {},
   "outputs": [
    {
     "name": "stdout",
     "output_type": "stream",
     "text": [
      "['fly', 'me', 'to', 'the', 'moon'] 4\n"
     ]
    }
   ],
   "source": [
    "# 9\n",
    "# day 9\n",
    "# Length of last word\n",
    "# Given a string s consisting of words and spaces, return the length of the last word in the string.# A word is a maximal  substring\n",
    "# consisting of non-space characters only.\n",
    "# Example 1:\n",
    "\n",
    "# Input: s = \"Hello World\"\n",
    "# Output: 5\n",
    "# Explanation: The last word is \"World\" with length 5.\n",
    "s = \"   fly me   to   the moon  \"\n",
    "b = s.split()\n",
    "print(b,len(b[-1]))"
   ]
  },
  {
   "cell_type": "code",
   "execution_count": 8,
   "id": "71e3fd9b-965d-495e-8f2a-ff4bb8f2fac2",
   "metadata": {},
   "outputs": [
    {
     "name": "stdout",
     "output_type": "stream",
     "text": [
      "5\n",
      "6\n",
      "7\n",
      "8\n",
      "9\n",
      "5\n"
     ]
    }
   ],
   "source": [
    "# 10\n",
    "# day 10\n",
    "# Search insert position\n",
    "# Given a sorted array of distinct integers and a target value, return the index if the target is found. \n",
    "# If not, return the index where it would be if it were inserted in order.\n",
    "\n",
    "# Example 1:\n",
    "\n",
    "# Input: nums = [1,3,5,6], target = 5\n",
    "# Output: 2\n",
    "# Example 2:\n",
    "\n",
    "# Input: nums = [1,3,5,6], target = 2\n",
    "# Output: 1\n",
    "a = [1,2,3,4,5]\n",
    "tar = 6\n",
    "for index,val in enumerate(a) :\n",
    "    if val == tar:\n",
    "        print(index)\n",
    "    else:\n",
    "        a.append(tar)\n",
    "b = sorted(a)\n",
    "print(a.index(tar))\n",
    "        "
   ]
  },
  {
   "cell_type": "code",
   "execution_count": 45,
   "id": "33c60b57-0754-4100-af83-ae43619489df",
   "metadata": {},
   "outputs": [
    {
     "name": "stdout",
     "output_type": "stream",
     "text": [
      "[1, 0, 0]\n"
     ]
    }
   ],
   "source": [
    "# 11\n",
    "# day 11\n",
    "# You are given a large integer represented as an integer array digits, where each digits[i] is the ith digit of the integer. \n",
    "# The digits are ordered from most significant to least significant in left-to-right order. The large integer does not contain any leading 0's\n",
    "\n",
    "# Example 1:\n",
    "# Input: digits = [1,2,3]\n",
    "# Output: [1,2,4]\n",
    "# Explanation: The array represents the integer 123.\n",
    "# Incrementing by one gives 123 + 1 = 124.\n",
    "# Thus, the result should be [1,2,4]\n",
    "\n",
    "digits = [9,9]\n",
    "for i in range(len(digits) - 1, -1, -1): # i will be len of list but in reverse order\n",
    "        if digits[i] < 9:\n",
    "            digits[i] += 1\n",
    "            print(digits)\n",
    "        digits[i] = 0\n",
    "\n",
    "digits = [0] + digits\n",
    "digits[0] = 1\n",
    "print(digits)"
   ]
  },
  {
   "cell_type": "code",
   "execution_count": 29,
   "id": "7819a15a-fadb-4f1b-ba71-e3707317c673",
   "metadata": {},
   "outputs": [
    {
     "name": "stdout",
     "output_type": "stream",
     "text": [
      "False\n"
     ]
    }
   ],
   "source": [
    "# 12\n",
    "# day 12\n",
    "# Valid paranthesis\n",
    "# Given a string s containing just the characters '(', ')', '{', '}', '[' and ']', determine if the input string is valid.\n",
    "\n",
    "# An input string is valid if:\n",
    "\n",
    "# Open brackets must be closed by the same type of brackets.\n",
    "# Open brackets must be closed in the correct order.\n",
    "# Every close bracket has a corresponding open bracket of the same type.\n",
    " \n",
    "# Example 1:\n",
    "# Input: s = \"()\"\n",
    "# Output: true\n",
    "l = []\n",
    "s = \"{}\"\n",
    "if len(s) >= 0:\n",
    "    \n",
    "    for i in s:\n",
    "        if i == '(':\n",
    "            l.append(i)\n",
    "        elif i == '{':\n",
    "            l.append(i)\n",
    "        elif i == '[':\n",
    "            l.append(i)\n",
    "        elif not l or l.pop() != i: # pop means it will pop last element\n",
    "            print(False)"
   ]
  },
  {
   "cell_type": "code",
   "execution_count": 19,
   "id": "4358c99c-bf2a-44da-b0b7-478e94f7f234",
   "metadata": {},
   "outputs": [
    {
     "name": "stdout",
     "output_type": "stream",
     "text": [
      "False\n"
     ]
    }
   ],
   "source": [
    "# 13\n",
    "# Valid palindrome (String)\n",
    "# A phrase is a palindrome if, after converting all uppercase letters into lowercase letters and \n",
    "# removing all non-alphanumeric characters, it reads the same forward and backward. \n",
    "# Alphanumeric characters include letters and numbers.Given a string s, \n",
    "# return true if it is a palindrome, or false otherwise.\n",
    "\n",
    "# Example 1:\n",
    "# Input: s = \"A man, a plan, a canal: Panama\"\n",
    "# Output: true\n",
    "# Explanation: \"amanaplanacanalpanama\" is a palindrome.\n",
    "\n",
    "# Example 2:\n",
    "# Input: s = \"race a car\"\n",
    "# Output: false\n",
    "# Explanation: \"raceacar\" is not a palindrome.\n",
    "import re\n",
    "s = '0P'\n",
    "s = s.lower()\n",
    "s = re.sub(r'[^a-z0-9]', '',s) # [^a-z] chars that are not from a-z, ''(replace with an empty string), s-given string\n",
    "\n",
    "if s == s[::-1]:\n",
    "    print(True)\n",
    "else:\n",
    "    print(False)"
   ]
  },
  {
   "cell_type": "code",
   "execution_count": null,
   "id": "fea0c2bd-e463-4863-9f57-98bbbf83336b",
   "metadata": {},
   "outputs": [],
   "source": []
  },
  {
   "cell_type": "code",
   "execution_count": null,
   "id": "ea237b8f-5c06-4168-98f5-2b98082f76ec",
   "metadata": {},
   "outputs": [],
   "source": []
  }
 ],
 "metadata": {
  "kernelspec": {
   "display_name": "Python 3 (ipykernel)",
   "language": "python",
   "name": "python3"
  },
  "language_info": {
   "codemirror_mode": {
    "name": "ipython",
    "version": 3
   },
   "file_extension": ".py",
   "mimetype": "text/x-python",
   "name": "python",
   "nbconvert_exporter": "python",
   "pygments_lexer": "ipython3",
   "version": "3.11.5"
  }
 },
 "nbformat": 4,
 "nbformat_minor": 5
}
