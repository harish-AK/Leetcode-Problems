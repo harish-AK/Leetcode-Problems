{
 "cells": [
  {
   "cell_type": "code",
   "execution_count": 26,
   "id": "39f8741d",
   "metadata": {},
   "outputs": [
    {
     "name": "stdout",
     "output_type": "stream",
     "text": [
      "[5, 3, 4, 8]\n"
     ]
    }
   ],
   "source": [
    "# 3-3-2024\n",
    "# You are given a 1-indexed array of distinct integers nums of length n.\n",
    "# You need to distribute all the elements of nums between two arrays arr1 and arr2 using n operations. In the first operation, \n",
    "# append nums[1] to arr1. In the second operation, append nums[2] to arr2. Afterwards, in the ith operation:\n",
    "# If the last element of arr1 is greater than the last element of arr2, append nums[i] to arr1. Otherwise, append nums[i] to arr2.\n",
    "# The array result is formed by concatenating the arrays arr1 and arr2. For example, if arr1 == [1,2,3] and arr2 == [4,5,6], \n",
    "# then result = [1,2,3,4,5,6].\n",
    "# Return the array result.\n",
    "\n",
    "arr = [5,4,3,8]\n",
    "a1 = [arr[0]]\n",
    "a2 = [arr[1]]\n",
    "for i in range(2,len(arr)):\n",
    "    if a1[-1] > a2[-1]:\n",
    "        a1.append(arr[i])\n",
    "    elif a1[-1] < a2[-1]:\n",
    "        a2.append(arr[i])\n",
    "print(a1+a2)\n",
    "        \n",
    "    "
   ]
  },
  {
   "cell_type": "code",
   "execution_count": 40,
   "id": "ea284504",
   "metadata": {},
   "outputs": [
    {
     "name": "stdout",
     "output_type": "stream",
     "text": [
      "Output for nums1: [2, 3, 1, 3]\n",
      "Output for nums2: [5, 3, 1, 2, 14]\n"
     ]
    }
   ],
   "source": [
    "# You are given a 1-indexed array of integers nums of length n.\n",
    "\n",
    "# We define a function greaterCount such that greaterCount(arr, val) returns the number of elements in arr that are strictly greater than val.\n",
    "\n",
    "# You need to distribute all the elements of nums between two arrays arr1 and arr2 using n operations. In the first operation, append nums[1] to arr1. In the second operation, append nums[2] to arr2. Afterwards, in the ith operation:\n",
    "\n",
    "# If greaterCount(arr1, nums[i]) > greaterCount(arr2, nums[i]), append nums[i] to arr1.\n",
    "# If greaterCount(arr1, nums[i]) < greaterCount(arr2, nums[i]), append nums[i] to arr2.\n",
    "# If greaterCount(arr1, nums[i]) == greaterCount(arr2, nums[i]), append nums[i] to the array with a lesser number of elements.\n",
    "# If there is still a tie, append nums[i] to arr1.\n",
    "# The array result is formed by concatenating the arrays arr1 and arr2. For example, if arr1 == [1,2,3] and arr2 == [4,5,6], then result = [1,2,3,4,5,6].\n",
    "\n",
    "# Return the integer array result.\n",
    "# Input: nums = [5,14,3,1,2]\n",
    "# Output: [5,3,1,2,14]\n",
    "# Explanation: After the first 2 operations, arr1 = [5] and arr2 = [14].\n",
    "# In the 3rd operation, the number of elements greater than 3 is one in both arrays. Also, the lengths are equal, hence, append nums[3] to arr1.\n",
    "# In the 4th operation, the number of elements greater than 1 is greater in arr1 than arr2 (2 > 1). Hence, append nums[4] to arr1.\n",
    "# In the 5th operation, the number of elements greater than 2 is greater in arr1 than arr2 (2 > 1). Hence, append nums[5] to arr1.\n",
    "# After 5 operations, arr1 = [5,3,1,2] and arr2 = [14].\n",
    "# Hence, the array result formed by concatenation is [5,3,1,2,14].\n",
    "\n",
    "def distributeElements(nums):\n",
    "    n = len(nums)\n",
    "    arr1 = [nums[0]]\n",
    "    arr2 = [nums[1]]\n",
    "    \n",
    "    def greaterCount(arr, val):\n",
    "        return sum(1 for num in arr if num > val)\n",
    "    \n",
    "    for i in range(2, n):\n",
    "        count_arr1 = greaterCount(arr1, nums[i])\n",
    "        count_arr2 = greaterCount(arr2, nums[i])\n",
    "        \n",
    "        if count_arr1 > count_arr2:\n",
    "            arr1.append(nums[i])\n",
    "        elif count_arr1 < count_arr2:\n",
    "            arr2.append(nums[i])\n",
    "        else:\n",
    "            if len(arr1) <= len(arr2):  # Modified condition for tie-breaker\n",
    "                arr1.append(nums[i])\n",
    "            else:\n",
    "                arr2.append(nums[i])\n",
    "    \n",
    "    return arr1 + arr2\n",
    "\n",
    "# Test cases\n",
    "nums1 = [2, 1, 3, 3]\n",
    "nums2 = [5, 14, 3, 1, 2]\n",
    "\n",
    "print(\"Output for nums1:\", distributeElements(nums1))\n",
    "print(\"Output for nums2:\", distributeElements(nums2))"
   ]
  },
  {
   "cell_type": "code",
   "execution_count": null,
   "id": "75f1bf02",
   "metadata": {},
   "outputs": [],
   "source": [
    "# Count Submatrices with Top-Left Element and Sum Less Than k\n",
    "# You are given a 0-indexed integer matrix grid and an integer k.\n",
    "# Return the number of submatrices that contain the top-left element of the grid, and have a sum less than or equal to k.\n",
    "\n",
    "# Example 1:\n",
    "# Input: grid = [[7,6,3],[6,6,1]], k = 18\n",
    "# Output: 4\n",
    "# Explanation: There are only 4 submatrices, shown in the image above, that contain the top-left element of grid, and have a sum less than or equal to 18.\n",
    "grid = [[7,6,3],[6,6,1]]"
   ]
  },
  {
   "cell_type": "code",
   "execution_count": 42,
   "id": "ae78606b",
   "metadata": {},
   "outputs": [
    {
     "name": "stdout",
     "output_type": "stream",
     "text": [
      "32\n"
     ]
    }
   ],
   "source": []
  },
  {
   "cell_type": "code",
   "execution_count": null,
   "id": "0ded4de0",
   "metadata": {},
   "outputs": [],
   "source": []
  }
 ],
 "metadata": {
  "kernelspec": {
   "display_name": "Python 3 (ipykernel)",
   "language": "python",
   "name": "python3"
  },
  "language_info": {
   "codemirror_mode": {
    "name": "ipython",
    "version": 3
   },
   "file_extension": ".py",
   "mimetype": "text/x-python",
   "name": "python",
   "nbconvert_exporter": "python",
   "pygments_lexer": "ipython3",
   "version": "3.11.5"
  }
 },
 "nbformat": 4,
 "nbformat_minor": 5
}
