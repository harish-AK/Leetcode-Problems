{
 "cells": [
  {
   "cell_type": "markdown",
   "id": "23bfa6f1",
   "metadata": {},
   "source": [
    "# Python basic certification question from hackerrank"
   ]
  },
  {
   "cell_type": "code",
   "execution_count": null,
   "id": "3dc37123",
   "metadata": {},
   "outputs": [],
   "source": [
    "# Vending machine\n",
    "\n",
    "import math\n",
    "import os\n",
    "import random\n",
    "import re\n",
    "import sys\n",
    "\n",
    "\n",
    "class VendingMachine:\n",
    "    def __init__(self,var1,var2):\n",
    "        self.var1 = var1\n",
    "        self.var2 = var2\n",
    "    \n",
    "    def buy(self,x,y):\n",
    "        if (self.var1 > x and x*self.var2 <= y):\n",
    "            self.var1 -= x\n",
    "            return y-(x*self.var2)\n",
    "        else:\n",
    "            if self.var1<x:\n",
    "                return \"Not enough items in the machine\"\n",
    "            else:\n",
    "                return \"Not enough coins\"\n",
    "    # Implement the VendingMachine here\n",
    "    pass\n",
    "if __name__ == '__main__':\n",
    "    fptr = open(os.environ['OUTPUT_PATH'], 'w')\n",
    "\n",
    "    num_items, item_coins = map(int, input().split())\n",
    "    machine = VendingMachine(num_items, item_coins)\n",
    "\n",
    "    n = int(input())\n",
    "    for _ in range(n):\n",
    "        num_items, num_coins = map(int, input().split())\n",
    "        try:\n",
    "            change = machine.buy(num_items, num_coins)\n",
    "            fptr.write(str(change) + \"\\n\")\n",
    "        except ValueError as e:\n",
    "            fptr.write(str(e) + \"\\n\")\n",
    "\n",
    "\n",
    "    fptr.close()\n"
   ]
  },
  {
   "cell_type": "code",
   "execution_count": 30,
   "id": "b5609a0b",
   "metadata": {},
   "outputs": [
    {
     "name": "stdout",
     "output_type": "stream",
     "text": [
      "[8, 0, 2, 4, 6] ['h', 'y', 'p', 'o', 't', 'h', 'e', 't', 'i', 'c', 'a', 'l', 'l', 'y', 'w', 'x', 'z']\n"
     ]
    }
   ],
   "source": [
    "s = \"8hypotheticall024y6wxz\"\n",
    "alph = \"abcdefghijklmnopqrstuvwxyz\"\n",
    "\n",
    "def missingCharacters(s):\n",
    "    nums = []\n",
    "    chars = []\n",
    "    alph = \"abcdefghijklmnopqrstuvwxyz\"\n",
    "\n",
    "    for i in s:\n",
    "        if i in \"0123456789\":\n",
    "            nums.append(int(i))\n",
    "        elif i in alph:\n",
    "            chars.append(i)\n",
    "    res_n = []\n",
    "\n",
    "    for n in range(10):\n",
    "        if n not in nums:\n",
    "            res_n.append(n)\n",
    "    # alph_set = set(alph)\n",
    "\n",
    "    res_c = [c for c in alph if c not in chars]\n",
    "    \n",
    "    return \"\".join(map(str, res_n+res_c))\n",
    "            \n",
    "\n",
    "if __name__ == '__main__':\n",
    "    fptr = open(os.environ['OUTPUT_PATH'], 'w')\n",
    "\n",
    "    s = input()\n",
    "\n",
    "    result = missingCharacters(s)\n",
    "\n",
    "    fptr.write(result + '\\n')\n",
    "\n",
    "    fptr.close()\n",
    "# Output 13579bdfgjkmnqrsuv"
   ]
  },
  {
   "cell_type": "code",
   "execution_count": null,
   "id": "a3ef6d8c",
   "metadata": {},
   "outputs": [],
   "source": [
    "\n"
   ]
  }
 ],
 "metadata": {
  "kernelspec": {
   "display_name": "Python 3 (ipykernel)",
   "language": "python",
   "name": "python3"
  },
  "language_info": {
   "codemirror_mode": {
    "name": "ipython",
    "version": 3
   },
   "file_extension": ".py",
   "mimetype": "text/x-python",
   "name": "python",
   "nbconvert_exporter": "python",
   "pygments_lexer": "ipython3",
   "version": "3.11.5"
  }
 },
 "nbformat": 4,
 "nbformat_minor": 5
}
