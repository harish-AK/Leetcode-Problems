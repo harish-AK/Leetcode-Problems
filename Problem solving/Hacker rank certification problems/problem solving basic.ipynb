{
 "cells": [
  {
   "cell_type": "code",
   "execution_count": 1,
   "id": "b792840e",
   "metadata": {},
   "outputs": [
    {
     "data": {
      "text/plain": [
       "[3, 2, 0]"
      ]
     },
     "execution_count": 1,
     "metadata": {},
     "output_type": "execute_result"
    }
   ],
   "source": [
    "# 1\n",
    "# anagram\n",
    "from collections import Counter\n",
    "\n",
    "dictionary = ['heater','cold','clod','reheat','docl']\n",
    "query = ['codl', 'heater', 'abcd']\n",
    "\n",
    "dict = [\"\".join(sorted(word)) for word in dictionary]\n",
    "q = [\"\".join(sorted(word)) for word in query]\n",
    "result = []\n",
    "count = Counter(dict)\n",
    "\n",
    "for i in q:\n",
    "    if i in count.keys():\n",
    "        result.append(count[i])\n",
    "    else:\n",
    "        result.append(0)\n",
    "\n",
    "result\n"
   ]
  },
  {
   "cell_type": "code",
   "execution_count": 15,
   "id": "e6b8e59b",
   "metadata": {},
   "outputs": [
    {
     "data": {
      "text/plain": [
       "5"
      ]
     },
     "execution_count": 15,
     "metadata": {},
     "output_type": "execute_result"
    }
   ],
   "source": [
    "# 2\n",
    "# maximum cost of laptop count\n",
    "cost = [0,3,2,3,4]\n",
    "labels = ['legal','legal','illegal','legal','legal']\n",
    "dailyCount = 1\n",
    "ans = 0\n",
    "cur_cnt = 0\n",
    "cur_cost = 0\n",
    "for c, l in zip(cost, labels):\n",
    "    cur_cost += c\n",
    "    if l == \"illegal\":\n",
    "        continue\n",
    "    cur_cnt += 1\n",
    "    if cur_cnt == dailyCount:\n",
    "        ans = max(ans, cur_cost)\n",
    "        cur_cnt = 0\n",
    "        cur_cost = 0\n",
    "ans"
   ]
  },
  {
   "cell_type": "code",
   "execution_count": null,
   "id": "b81f0089",
   "metadata": {},
   "outputs": [],
   "source": []
  },
  {
   "cell_type": "code",
   "execution_count": null,
   "id": "2252b08e",
   "metadata": {},
   "outputs": [],
   "source": []
  },
  {
   "cell_type": "code",
   "execution_count": null,
   "id": "85628ba3",
   "metadata": {},
   "outputs": [],
   "source": []
  }
 ],
 "metadata": {
  "kernelspec": {
   "display_name": "Python 3 (ipykernel)",
   "language": "python",
   "name": "python3"
  },
  "language_info": {
   "codemirror_mode": {
    "name": "ipython",
    "version": 3
   },
   "file_extension": ".py",
   "mimetype": "text/x-python",
   "name": "python",
   "nbconvert_exporter": "python",
   "pygments_lexer": "ipython3",
   "version": "3.11.5"
  }
 },
 "nbformat": 4,
 "nbformat_minor": 5
}
